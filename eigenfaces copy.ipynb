{
 "cells": [
  {
   "cell_type": "markdown",
   "metadata": {},
   "source": [
    "### Partition face dataset into 8:2 training:test\n",
    "\n",
    "### Apply PCA on training data by use of eigenvectors and eigenvalues of covaraiance matrix S= (1/N)A(A^T)\n",
    "\n",
    "### Apply PCA using eigenvectors and eigenvalues of (1/N)(A^T)A"
   ]
  },
  {
   "cell_type": "code",
   "execution_count": 1,
   "metadata": {},
   "outputs": [],
   "source": [
    "# PCA source: Week 2 slides - Manifold Learning\n",
    "\n",
    "import numpy as np\n",
    "from scipy.io import loadmat\n",
    "from sklearn.model_selection import train_test_split\n",
    "import matplotlib.pyplot as plt\n",
    "\n",
    "np.random.seed(42)\n",
    "\n",
    "data = loadmat('face.mat')\n",
    "\n",
    "X = data['X'] # flat images dim (2576,520)\n",
    "# l = data['l'].flatten()  # image Labels (1,520)\n",
    "\n",
    "# Does a 8/2 split of dataset (8 images / 2 images of each person). Training data shuffled. \n",
    "def Q1_partition(data):\n",
    "    X = data['X'] # flat images dim (2576,520)\n",
    "    X_train, X_test = [], []\n",
    "    for i in range(0, 520, 10):\n",
    "        im_train, im_test = train_test_split(X[:, i: i + 10].T, test_size=0.2, random_state=42)\n",
    "        X_train.append(im_train)    \n",
    "        X_test.append(im_test)  \n",
    "  \n",
    "    return  np.array(X_train).reshape(-1, 2576), np.array(X_test).reshape(-1, 2576)"
   ]
  },
  {
   "cell_type": "code",
   "execution_count": 2,
   "metadata": {},
   "outputs": [],
   "source": [
    "\n"
   ]
  },
  {
   "cell_type": "code",
   "execution_count": 50,
   "metadata": {},
   "outputs": [],
   "source": [
    "def display_image(image, label):\n",
    "    # X[:, image_index]\n",
    "    image_height, image_width = 46, 56 \n",
    "    image = image.reshape((image_height, image_width)).T \n",
    "    # label = l[image_index]\n",
    "\n",
    "    plt.imshow(image, cmap='gray', aspect='auto')\n",
    "    plt.title(f\"Face Image - Label: {label}\")\n",
    "    plt.axis('off')\n",
    "    plt.show()\n",
    "    # display_image(X_train[1:2].T, \"hey\")\n",
    "    # display_image(t1[i:i+1].T, \"Hey\")\n",
    "\n",
    "def get_sorted_eigen(M):\n",
    "    eigenvalues, eigenvectors = np.linalg.eig(M)\n",
    "    eigenvalues, eigenvectors = np.real(eigenvalues), np.real(eigenvectors)\n",
    "\n",
    "    sorted_indices = np.argsort(eigenvalues)[::-1]\n",
    "\n",
    "    sorted_eigenvalues = eigenvalues[sorted_indices]\n",
    "    sorted_eigenvectors = eigenvectors[:, sorted_indices]\n",
    "    return sorted_eigenvalues, sorted_eigenvectors\n",
    "\n",
    "# S = Covariance Matrix, A = mean centred data, N = #samples\n",
    "def PCA(batch, threshold = 0.95):\n",
    "    N, mean, S = process_batch(batch)\n",
    "    eigenvalues, eigenvectors = get_sorted_eigen(S)\n",
    "    k = choose_principal_components(threshold, eigenvalues)\n",
    "    return eigenvalues[:k + 1], eigenvectors[:, :k + 1], mean, N\n",
    "\n",
    "def choose_principal_components(threshold, eigenvalues):\n",
    "    covariance_ratios = eigenvalues/np.sum(eigenvalues)\n",
    "    cum_var = 0\n",
    "    for k, ratio in enumerate(covariance_ratios):\n",
    "        cum_var += ratio\n",
    "        if cum_var >= threshold: return k \n",
    "\n",
    "def process_batch(batch):\n",
    "    mean = np.mean(batch, axis=0)\n",
    "    A = (batch - mean).T\n",
    "    N = A.shape[1]\n",
    "    S = (1/N) * np.dot(A, A.T)\n",
    "    \n",
    "    print(batch.shape)\n",
    "    print(mean.shape)\n",
    "    print(A.shape)\n",
    "    print(S.shape)\n",
    "    return N, mean, S\n",
    "\n"
   ]
  },
  {
   "cell_type": "code",
   "execution_count": 51,
   "metadata": {},
   "outputs": [
    {
     "name": "stdout",
     "output_type": "stream",
     "text": [
      "N, D =  (416, 2576)\n",
      "(416, 2576)\n",
      "(2576,)\n",
      "(2576, 416)\n",
      "(2576, 2576)\n"
     ]
    }
   ],
   "source": [
    "# They cannot possibly be the same since they have different dimensions. \n",
    "X_train, X_test = Q1_partition(data)\n",
    "print(\"N, D = \", X_train.shape)\n",
    "##### Look here FELIX - AAT: S = (1/N) A * A^T, ATA: S = (1/N) A^T * A  \n",
    "eigenvalues_AAT, eigenvectors_AAT, mean1, N1 = PCA(X_train)\n",
    "#eigenvalues_ATA, eigenvectors_ATA, mean2, N2 = PCA(X_train)\n",
    "##########"
   ]
  },
  {
   "cell_type": "code",
   "execution_count": 54,
   "metadata": {},
   "outputs": [
    {
     "data": {
      "image/png": "[encoded data removed]",
      "text/plain": [
       "<Figure size 640x480 with 1 Axes>"
      ]
     },
     "metadata": {},
     "output_type": "display_data"
    },
    {
     "name": "stdout",
     "output_type": "stream",
     "text": [
      "2576 120 416 2576\n"
     ]
    },
    {
     "ename": "AttributeError",
     "evalue": "'list' object has no attribute 'shape'",
     "output_type": "error",
     "traceback": [
      "\u001b[1;31m---------------------------------------------------------------------------\u001b[0m",
      "\u001b[1;31mAttributeError\u001b[0m                            Traceback (most recent call last)",
      "Cell \u001b[1;32mIn[54], line 21\u001b[0m\n\u001b[0;32m     19\u001b[0m \u001b[38;5;28mprint\u001b[39m(\u001b[38;5;28mlen\u001b[39m(eigenvectors_AAT), \u001b[38;5;28mlen\u001b[39m(eigenvectors_AAT[\u001b[38;5;241m0\u001b[39m]), N1, \u001b[38;5;28mlen\u001b[39m(mean1))\n\u001b[0;32m     20\u001b[0m deconstruct(test_image, eigenvectors_AAT, mean1)\n\u001b[1;32m---> 21\u001b[0m \u001b[43mreconstruct\u001b[49m\u001b[43m(\u001b[49m\u001b[43mtest_image\u001b[49m\u001b[43m,\u001b[49m\u001b[43m \u001b[49m\u001b[43meigenvectors_AAT\u001b[49m\u001b[43m,\u001b[49m\u001b[43m \u001b[49m\u001b[43mmean1\u001b[49m\u001b[43m)\u001b[49m\n\u001b[0;32m     23\u001b[0m display_image(test_image, \u001b[38;5;124m\"\u001b[39m\u001b[38;5;124mImage 4 after reconstruct\u001b[39m\u001b[38;5;124m\"\u001b[39m)\n",
      "Cell \u001b[1;32mIn[54], line 13\u001b[0m, in \u001b[0;36mreconstruct\u001b[1;34m(coords, eigenvects, mean)\u001b[0m\n\u001b[0;32m     11\u001b[0m \u001b[38;5;28;01mfor\u001b[39;00m vector \u001b[38;5;129;01min\u001b[39;00m eigenvects\u001b[38;5;241m.\u001b[39mT :\n\u001b[0;32m     12\u001b[0m     image\u001b[38;5;241m.\u001b[39mappend(coords \u001b[38;5;241m*\u001b[39m vector)\n\u001b[1;32m---> 13\u001b[0m \u001b[38;5;28mprint\u001b[39m(\u001b[43mimage\u001b[49m\u001b[38;5;241;43m.\u001b[39;49m\u001b[43mshape\u001b[49m)\n\u001b[0;32m     14\u001b[0m \u001b[38;5;28;01mreturn\u001b[39;00m image \u001b[38;5;241m+\u001b[39m mean\n",
      "\u001b[1;31mAttributeError\u001b[0m: 'list' object has no attribute 'shape'"
     ]
    }
   ],
   "source": [
    "def deconstruct(image, eigenvects, mean):\n",
    "    reduced = image - mean\n",
    "    coords = []\n",
    "    for vector in eigenvects.T :\n",
    "        coords.append(np.dot(reduced, vector))\n",
    "    return coords\n",
    "\n",
    "\n",
    "def reconstruct(coords, eigenvects, mean) :\n",
    "    image = np.array([])\n",
    "    for vector in eigenvects.T :\n",
    "        image.append(coords * vector)\n",
    "    print(image.shape)\n",
    "    return image + mean\n",
    "\n",
    "\n",
    "test_image = X[:, 4]\n",
    "display_image(test_image, \"Image 4\")\n",
    "print(len(eigenvectors_AAT), len(eigenvectors_AAT[0]), N1, len(mean1))\n",
    "deconstruct(test_image, eigenvectors_AAT, mean1)\n",
    "reconstruct(test_image, eigenvectors_AAT, mean1)\n",
    "\n",
    "display_image(test_image, \"Image 4 after reconstruct\")"
   ]
  }
 ],
 "metadata": {
  "kernelspec": {
   "display_name": "Python 3",
   "language": "python",
   "name": "python3"
  },
  "language_info": {
   "codemirror_mode": {
    "name": "ipython",
    "version": 3
   },
   "file_extension": ".py",
   "mimetype": "text/x-python",
   "name": "python",
   "nbconvert_exporter": "python",
   "pygments_lexer": "ipython3",
   "version": "3.12.7"
  }
 },
 "nbformat": 4,
 "nbformat_minor": 2
}

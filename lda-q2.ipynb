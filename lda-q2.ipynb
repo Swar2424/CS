{
 "cells": [
  {
   "cell_type": "markdown",
   "metadata": {},
   "source": [
    "### Partition face dataset into 8:2 training:test\n",
    "\n",
    "### Apply PCA on training data by use of eigenvectors and eigenvalues of covaraiance matrix S= (1/N)A(A^T)\n",
    "\n",
    "### Apply PCA using eigenvectors and eigenvalues of (1/N)(A^T)A"
   ]
  },
  {
   "cell_type": "code",
   "execution_count": 6,
   "metadata": {},
   "outputs": [],
   "source": [
    "import numpy as np\n",
    "from scipy.io import loadmat\n",
    "from sklearn.model_selection import train_test_split\n",
    "from sklearn.metrics import confusion_matrix\n",
    "from sklearn.discriminant_analysis import LinearDiscriminantAnalysis\n",
    "from sklearn.base import BaseEstimator, ClassifierMixin\n",
    "from sklearn.decomposition import PCA\n",
    "import matplotlib.pyplot as plt\n",
    "from sklearn.ensemble import VotingClassifier\n",
    "import csv\n",
    "\n",
    "np.random.seed(42)\n",
    "\n",
    "data = loadmat('face.mat')\n",
    "\n",
    "X = data['X'] # flat images dim (2576,520)\n",
    "# l = data['l'].flatten()  # image Labels (1,520)\n",
    "\n",
    "# Does a 8/2 split of dataset (8 images / 2 images of each person). Training data shuffled. \n",
    "def Q1_partition(data):\n",
    "    X = data['X'] # flat images dim (2576,520)\n",
    "    l = data['l'].flatten() \n",
    "    sets = [[], [], [], []]\n",
    "    for i in range(0, 520, 10):\n",
    "        im_train, im_test, l_train, l_test = train_test_split(X[:, i: i + 10].T, l[i: i + 10], test_size=0.2, random_state=42)\n",
    "        sets[0].append(im_train)    \n",
    "        sets[1].append(im_test)  \n",
    "        sets[2].append(l_train)    \n",
    "        sets[3].append(l_test)  \n",
    "\n",
    "    for i in range(4):\n",
    "        if i < 2:\n",
    "             sets[i] = np.array(sets[i]).reshape(-1, 2576)\n",
    "        else: \n",
    "            sets[i] = np.array(sets[i]).flatten()\n",
    "    \n",
    "    return sets"
   ]
  },
  {
   "cell_type": "code",
   "execution_count": 7,
   "metadata": {},
   "outputs": [],
   "source": [
    "def display_image(image, label):\n",
    "    # X[:, image_index]\n",
    "    image_height, image_width = 46, 56 \n",
    "    image = image.reshape((image_height, image_width)).T \n",
    "    # label = l[image_index]\n",
    "\n",
    "    plt.imshow(image, cmap='gray', aspect='auto')\n",
    "    plt.title(f\"Face Image - Label: {label}\")\n",
    "    plt.axis('off')\n",
    "    plt.show()\n",
    "    # display_image(X_train[1:2].T, \"hey\")\n",
    "    # display_image(t1[i:i+1].T, \"Hey\")\n",
    "\n",
    "def get_sorted_eigen(M):\n",
    "    eigenvalues, eigenvectors = np.linalg.eig(M)\n",
    "    eigenvalues, eigenvectors = np.real(eigenvalues), np.real(eigenvectors)\n",
    "\n",
    "    sorted_indices = np.argsort(eigenvalues)[::-1]\n",
    "\n",
    "    sorted_eigenvalues = eigenvalues[sorted_indices]\n",
    "    sorted_eigenvectors = eigenvectors[:, sorted_indices]\n",
    "    \n",
    "    return sorted_eigenvalues, sorted_eigenvectors\n",
    "\n",
    "# S = Covariance Matrix, A = mean centred data, N = #samples\n",
    "def my_PCA(batch, k = 120, inverter = 0):\n",
    "    A, mean, S = process_batch(batch, inverter)\n",
    "    eigenvalues, eigenvectors = get_sorted_eigen(S)\n",
    "    #k = choose_principal_components(threshold, eigenvalues)\n",
    "    \n",
    "    if inverter :\n",
    "        eigenvectors = np.dot(A.T, eigenvectors)\n",
    "        \n",
    "        \n",
    "    return eigenvalues[:k + 1], eigenvectors[:, :k + 1] / np.linalg.norm(eigenvectors[:, :k + 1], axis=0), mean, A\n",
    "\n",
    "def choose_principal_components(threshold, eigenvalues):\n",
    "    covariance_ratios = eigenvalues/np.sum(eigenvalues)\n",
    "    cum_var = 0\n",
    "    for k, ratio in enumerate(covariance_ratios):\n",
    "        cum_var += ratio\n",
    "        if cum_var >= threshold: return k \n",
    "\n",
    "def process_batch(batch, inverter):\n",
    "    mean = np.mean(batch, axis=0)\n",
    "    A = batch - mean\n",
    "    print(f'batch: {batch.shape}')\n",
    "    print(f'A: {A.shape}')\n",
    "    N = A.shape[1]\n",
    "    \n",
    "    if inverter :\n",
    "        S = (1/N) * np.dot(A, A.T)\n",
    "    else :\n",
    "        S = (1/N) * np.dot(A.T, A)\n",
    "        \n",
    "    print(f'S: {S.shape}')\n",
    "    print(f'Mean: {mean.shape}')\n",
    "    return A, mean, S"
   ]
  },
  {
   "cell_type": "code",
   "execution_count": 8,
   "metadata": {},
   "outputs": [],
   "source": [
    "# S = Covariance Matrix, A = mean centred data, N = #samples per class, C = #classes\n",
    "def my_LDA(batch, C, N, W, k = 120):\n",
    "    mean, SB, SW = process_batch_LDA(batch, C, N, W)\n",
    "    ST = np.linalg.inv(SW).dot(SB)\n",
    "    print(\"ST : \", ST.shape)\n",
    "    eigenvalues, eigenvectors = get_sorted_eigen(np.linalg.inv(SW).dot(SB))\n",
    "    #k = choose_principal_components(threshold, eigenvalues) \n",
    "    #eigenvectors = np.dot(A.T, eigenvectors)\n",
    "    \n",
    "    eigenvectors = np.dot(ST, eigenvectors)\n",
    "        \n",
    "    return eigenvalues[:k], eigenvectors[:, :k], mean, SB, SW, ST\n",
    "\n",
    "def process_batch_LDA(batch, C, N, W):\n",
    "    print(f'batch: {batch.shape}')\n",
    "    class_mean = np.array([np.mean(batch[i*N:(i+1)*N-1,:], axis=0) for i in range(C)])\n",
    "    print(f'Class_mean: {class_mean.shape}') \n",
    "    mean = np.mean(class_mean, axis=0)\n",
    "    print(f'Mean: {mean.shape}')\n",
    "    \n",
    "    SW = np.zeros((batch.shape[1], batch.shape[1]))\n",
    "    for i, c_mean in enumerate(class_mean) :\n",
    "        xn = batch[i*N:(i+1)*N-1,:] - c_mean\n",
    "        for x in xn :\n",
    "            SW += np.dot(x, x.T)\n",
    "    print(f'SW: {SW.shape}')\n",
    "    \n",
    "    SB = np.zeros((batch.shape[1], batch.shape[1]))\n",
    "    for c_mean in class_mean :\n",
    "        SB += N * np.dot((c_mean - mean), (c_mean - mean).T)    \n",
    "    print(f'SB: {SB.shape}')\n",
    "        \n",
    "    SW = W.T @ SW @ W\n",
    "    SB = W.T @ SB @ W\n",
    "    \n",
    "    print(f'SW2: {SW.shape}')\n",
    "    print(f'SB2: {SB.shape}')\n",
    "    print(\"SW rank : \", np.linalg.matrix_rank(SW))\n",
    "    print(\"SB rank : \", np.linalg.matrix_rank(SB))\n",
    "    \n",
    "    return mean, SW, SB"
   ]
  },
  {
   "cell_type": "code",
   "execution_count": 9,
   "metadata": {},
   "outputs": [],
   "source": [
    "def deconstruct(image, eigenvects, mean):\n",
    "    #Project and image on the eigenvectors\n",
    "    \n",
    "    reduced = image - mean\n",
    "    projected = np.zeros((eigenvects.shape[1]))\n",
    "    for i, vector in enumerate(eigenvects.T) :\n",
    "        projected[i] = np.dot(reduced, vector)\n",
    "    return projected\n",
    "\n",
    "def reconstruct(projected, eigenvects, mean) :  \n",
    "    #Reconstruct an image from its projection\n",
    "          \n",
    "    return mean + np.sum((eigenvects * projected), axis=1)\n",
    "\n",
    "def test_image(img, eigenvects, mean, display=0):\n",
    "    #Returns norm of reconstruction error, can display images\n",
    "    \n",
    "    projected = deconstruct(img, eigenvects, mean)\n",
    "    re_image = reconstruct(projected, eigenvects, mean)\n",
    "    \n",
    "    if display :\n",
    "        display_image(img, \"Image 4\")\n",
    "        display_image(re_image, \"Image 4 after reconstruct\")\n",
    "    return(np.linalg.norm(img-re_image))"
   ]
  },
  {
   "cell_type": "code",
   "execution_count": 10,
   "metadata": {},
   "outputs": [
    {
     "name": "stdout",
     "output_type": "stream",
     "text": [
      "batch: (416, 2576)\n",
      "A: (416, 2576)\n",
      "S: (416, 416)\n",
      "Mean: (2576,)\n",
      "(416, 2576) (2576, 201)\n"
     ]
    }
   ],
   "source": [
    "[X_train, X_test, l_train, l_test] = Q1_partition(data)\n",
    "\n",
    "eigenvalues_PCA, eigenvectors_PCA, mean_PCA, A = my_PCA(X_train, 200, 1)\n",
    "\n",
    "print(A.shape, eigenvectors_PCA.shape)\n",
    "\n",
    "Wpca = eigenvectors_PCA\n",
    "\n"
   ]
  },
  {
   "cell_type": "code",
   "execution_count": 7,
   "metadata": {},
   "outputs": [
    {
     "name": "stdout",
     "output_type": "stream",
     "text": [
      "batch: (416, 2576)\n",
      "Class_mean: (52, 2576)\n",
      "Mean: (2576,)\n",
      "SW: (2576, 2576)\n",
      "SB: (2576, 2576)\n",
      "SW2: (201, 201)\n",
      "SB2: (201, 201)\n",
      "SW rank :  1\n",
      "SB rank :  1\n",
      "ST :  (201, 201)\n",
      "(201, 51) (2576, 201)\n"
     ]
    }
   ],
   "source": [
    "pca = PCA(n_components=400)\n",
    "pca.fit(X_train)\n",
    "Xr = pca.transform(X_train)\n",
    "Xt = pca.transform(X_test)\n",
    "W = pca.components_\n",
    "\n",
    "\n",
    "eigenvalues, Wlda, mean, SB, SW, ST = my_LDA(X_train, 52, 8, Wpca, 51)\n",
    "print(Wlda.shape, Wpca.shape)\n"
   ]
  },
  {
   "cell_type": "code",
   "execution_count": 8,
   "metadata": {},
   "outputs": [
    {
     "name": "stdout",
     "output_type": "stream",
     "text": [
      "Mean (2) :  (2576,)\n",
      "SB : (201, 201) - 1 ; SW : (201, 201) - 1 ; ST : (201, 201) - 201\n",
      "(2576, 51)\n"
     ]
    }
   ],
   "source": [
    "\n",
    "print(\"Mean (2) : \", mean.shape)\n",
    "print(f\"SB : {SB.shape} - {np.linalg.matrix_rank(SB)} ; SW : {SW.shape} - {np.linalg.matrix_rank(SW)} ; ST : {ST.shape} - {np.linalg.matrix_rank(ST)}\")\n",
    "\n",
    "Wopt = np.dot(Wpca, Wlda)\n",
    "print(Wopt.shape)"
   ]
  },
  {
   "cell_type": "code",
   "execution_count": 9,
   "metadata": {},
   "outputs": [
    {
     "data": {
      "image/png": "[encoded data removed]",
      "text/plain": [
       "<Figure size 640x480 with 1 Axes>"
      ]
     },
     "metadata": {},
     "output_type": "display_data"
    },
    {
     "data": {
      "image/png": "[encoded data removed]",
      "text/plain": [
       "<Figure size 640x480 with 1 Axes>"
      ]
     },
     "metadata": {},
     "output_type": "display_data"
    },
    {
     "name": "stdout",
     "output_type": "stream",
     "text": [
      "5150604.91896529\n"
     ]
    }
   ],
   "source": [
    "def test_image_LDA(img_or, img, eigenvects, mean, W, mean_PCA, display=0):\n",
    "    #Returns norm of reconstruction error, can display images\n",
    "    \n",
    "    projected = deconstruct(img, eigenvects, mean)\n",
    "    print(projected.shape, eigenvects.shape, mean.shape)\n",
    "    re_image = reconstruct(reconstruct(projected, eigenvects, mean), W.T, mean_PCA)\n",
    "    \n",
    "    if display :\n",
    "        display_image(img_or, \"Image 4\")\n",
    "        display_image(re_image, \"Image 4 after reconstruct\")\n",
    "    return(np.linalg.norm(img_or-re_image))\n",
    "\n",
    "\n",
    "#projections = np.array([deconstruct(X_train[i], eigenvectors_PCA, mean_PCA) for i in range(len(X_train))])\n",
    "#mean_projected = np.mean(projections, axis=0)\n",
    "#print(mean_projected.shape)\n",
    "#print(projections.shape)\n",
    "\n",
    "print(test_image(X[:, 1], Wopt, mean_PCA, 1))\n",
    "#print(test_image_LDA(X_train[1, :], Xr[1,:], eigenvectors, mean, W, mean_PCA, 1))\n",
    "#print(test_image_LDA(X[:, 1] , eigenvectors, mean_projected, eigenvectors_PCA, mean_PCA, 1))\n",
    "#print(np.mean([test_image_LDA(X[:, i], eigenvectors, mean_projected, eigenvectors_PCA, mean_PCA, 0) for i in range(len(X[0]))]))  #mean error\n"
   ]
  },
  {
   "cell_type": "code",
   "execution_count": 10,
   "metadata": {},
   "outputs": [
    {
     "data": {
      "image/png": "[encoded data removed]",
      "text/plain": [
       "<Figure size 480x480 with 2 Axes>"
      ]
     },
     "metadata": {},
     "output_type": "display_data"
    },
    {
     "name": "stdout",
     "output_type": "stream",
     "text": [
      "Accuracy :  0.11538461538461539\n"
     ]
    }
   ],
   "source": [
    "def testing_NN(image, projections, eigenvects, mean) :\n",
    "    #Finds which training image correspond best to this image\n",
    "    \n",
    "    projected = deconstruct(image, eigenvects, mean)\n",
    "    return np.argmin(np.linalg.norm((projections - projected), axis=1))\n",
    "\n",
    "def fulltest(X_test, X_train, eigenvects, mean):\n",
    "    #Compute all testing images and return guessed label\n",
    "    \n",
    "    projections = np.array([deconstruct(X_train[i], eigenvects, mean) for i in range(len(X_train))])\n",
    "    res = []\n",
    "    for image in X_test:\n",
    "        res.append((testing_NN(image, projections, eigenvects, mean) //8) + 1)\n",
    "    return np.array(res)\n",
    "\n",
    "res = fulltest(X_test, X_train, Wopt, mean_PCA)\n",
    "\n",
    "cm = confusion_matrix(l_test, res)\n",
    "\n",
    "plt.matshow(cm, cmap = 'Blues')\n",
    "plt.colorbar()\n",
    "plt.ylabel('Actual')\n",
    "plt.xlabel('Predicted')\n",
    "plt.show()\n",
    "\n",
    "print(\"Accuracy : \", sum(np.equal(res, l_test))/len(res))"
   ]
  },
  {
   "cell_type": "code",
   "execution_count": 11,
   "metadata": {},
   "outputs": [
    {
     "name": "stdout",
     "output_type": "stream",
     "text": [
      "XR :  (416, 200)\n",
      "Covariance :  (200, 200)\n"
     ]
    },
    {
     "data": {
      "image/png": "[encoded data removed]",
      "text/plain": [
       "<Figure size 480x480 with 2 Axes>"
      ]
     },
     "metadata": {},
     "output_type": "display_data"
    },
    {
     "data": {
      "image/png": "[encoded data removed]",
      "text/plain": [
       "<Figure size 480x480 with 2 Axes>"
      ]
     },
     "metadata": {},
     "output_type": "display_data"
    },
    {
     "name": "stdout",
     "output_type": "stream",
     "text": [
      "Accuracy (1) :  0.9519230769230769\n",
      "Accuracy (2) :  0.9134615384615384\n"
     ]
    }
   ],
   "source": [
    "pca = PCA(n_components=200)\n",
    "pca.fit(X_train)\n",
    "Xr = pca.transform(X_train)\n",
    "Xt = pca.transform(X_test)\n",
    "print(\"XR : \", Xr.shape)\n",
    "\n",
    "lda = LinearDiscriminantAnalysis(store_covariance = True)\n",
    "lda.fit(X_train, l_train)\n",
    "res = lda.predict(X_test)\n",
    "\n",
    "lda = LinearDiscriminantAnalysis(solver=\"eigen\")\n",
    "lda.fit(Xr, l_train)\n",
    "res2 = lda.predict(Xt)\n",
    "\n",
    "print(\"Covariance : \", lda.covariance_.shape)\n",
    "\n",
    "cm = confusion_matrix(l_test, res)\n",
    "\n",
    "plt.matshow(cm, cmap = 'Blues')\n",
    "plt.colorbar()\n",
    "plt.ylabel('Actual')\n",
    "plt.xlabel('Predicted')\n",
    "plt.show()\n",
    "\n",
    "cm2 = confusion_matrix(l_test, res2)\n",
    "\n",
    "plt.matshow(cm2, cmap = 'Blues')\n",
    "plt.colorbar()\n",
    "plt.ylabel('Actual')\n",
    "plt.xlabel('Predicted')\n",
    "plt.show()\n",
    "\n",
    "print(\"Accuracy (1) : \", sum(np.equal(res, l_test))/len(res))\n",
    "print(\"Accuracy (2) : \", sum(np.equal(res2, l_test))/len(res2))"
   ]
  },
  {
   "cell_type": "code",
   "execution_count": 12,
   "metadata": {},
   "outputs": [],
   "source": [
    "[X_train, X_test, l_train, l_test] = Q1_partition(data)\n",
    "\n",
    "def Ensemble_data(X, y, T, f, C, Mlda):\n",
    "    clfs = []\n",
    "    for i in range(T) :\n",
    "        X_sampled = []\n",
    "        y_sampled = []\n",
    "        for j in range(C):\n",
    "            sampled_indices = np.random.choice(8, int(8*f), replace=True) + j*8\n",
    "            X_sampled.append(X[sampled_indices])\n",
    "            y_sampled.append(y[sampled_indices])\n",
    "        X_sampled = np.concatenate(X_sampled)\n",
    "        y_sampled = np.concatenate(y_sampled)\n",
    "        lda = LinearDiscriminantAnalysis(n_components=Mlda)\n",
    "        lda.fit(X_sampled, y_sampled)\n",
    "        clfs.append(lda)\n",
    "    return clfs\n",
    "    \n",
    "def Prediction_d(clfs, X_test, l_test, C):\n",
    "    res = np.zeros((l_test.shape[0], C))\n",
    "    for clf in clfs :\n",
    "        res += clf.predict_proba(X_test)\n",
    "    return np.argmax(res, axis=1) + 1\n",
    "    \n"
   ]
  },
  {
   "cell_type": "code",
   "execution_count": 45,
   "metadata": {},
   "outputs": [
    {
     "name": "stdout",
     "output_type": "stream",
     "text": [
      "PCA :  60\n",
      "LDA :  16\n",
      "LDA :  21\n",
      "LDA :  26\n",
      "LDA :  31\n",
      "LDA :  36\n",
      "LDA :  41\n",
      "LDA :  46\n",
      "PCA :  70\n",
      "LDA :  16\n",
      "LDA :  21\n",
      "LDA :  26\n",
      "LDA :  31\n",
      "LDA :  36\n",
      "LDA :  41\n",
      "LDA :  46\n",
      "PCA :  80\n",
      "LDA :  16\n",
      "LDA :  21\n",
      "LDA :  26\n",
      "LDA :  31\n",
      "LDA :  36\n",
      "LDA :  41\n",
      "LDA :  46\n",
      "PCA :  90\n",
      "LDA :  16\n",
      "LDA :  21\n",
      "LDA :  26\n",
      "LDA :  31\n",
      "LDA :  36\n",
      "LDA :  41\n",
      "LDA :  46\n",
      "PCA :  100\n",
      "LDA :  16\n",
      "LDA :  21\n",
      "LDA :  26\n",
      "LDA :  31\n",
      "LDA :  36\n",
      "LDA :  41\n",
      "LDA :  46\n",
      "PCA :  110\n",
      "LDA :  16\n",
      "LDA :  21\n",
      "LDA :  26\n",
      "LDA :  31\n",
      "LDA :  36\n",
      "LDA :  41\n",
      "LDA :  46\n",
      "PCA :  120\n",
      "LDA :  16\n",
      "LDA :  21\n",
      "LDA :  26\n",
      "LDA :  31\n",
      "LDA :  36\n",
      "LDA :  41\n",
      "LDA :  46\n",
      "PCA :  130\n",
      "LDA :  16\n",
      "LDA :  21\n",
      "LDA :  26\n",
      "LDA :  31\n",
      "LDA :  36\n",
      "LDA :  41\n",
      "LDA :  46\n",
      "PCA :  140\n",
      "LDA :  16\n",
      "LDA :  21\n",
      "LDA :  26\n",
      "LDA :  31\n",
      "LDA :  36\n",
      "LDA :  41\n",
      "LDA :  46\n",
      "PCA :  150\n",
      "LDA :  16\n",
      "LDA :  21\n",
      "LDA :  26\n",
      "LDA :  31\n",
      "LDA :  36\n",
      "LDA :  41\n",
      "LDA :  46\n",
      "PCA :  160\n",
      "LDA :  16\n",
      "LDA :  21\n",
      "LDA :  26\n",
      "LDA :  31\n",
      "LDA :  36\n",
      "LDA :  41\n",
      "LDA :  46\n"
     ]
    }
   ],
   "source": [
    "\n",
    "tot_results = []\n",
    "\n",
    "for Mpca in range(60, 161, 10):\n",
    "    print(\"PCA : \", Mpca)\n",
    "    pca = PCA(n_components = Mpca)\n",
    "    pca.fit(X_train)\n",
    "    Xr = pca.transform(X_train)\n",
    "    Xt = pca.transform(X_test)\n",
    "    for Mlda in range(16, 47, 5):\n",
    "        print(\"LDA : \", Mlda)\n",
    "        for T in range(10, 19, 1):\n",
    "            x = 5\n",
    "            mean = 0\n",
    "            for i in range(x):\n",
    "                Classifiers = Ensemble_data(Xr, l_train, T, 0.95, 52, Mlda)\n",
    "                res = Prediction_d(Classifiers, Xt, l_test, 52)\n",
    "                mean += np.sum(np.equal(res, l_test))/len(res)\n",
    "            tot_results.append([Mpca, Mlda, T, mean/x])\n",
    "                \n",
    "with open(\"output2.csv\", mode=\"w\", newline=\"\") as file:\n",
    "    writer = csv.writer(file)\n",
    "    writer.writerows(tot_results)\n"
   ]
  },
  {
   "cell_type": "code",
   "execution_count": 44,
   "metadata": {},
   "outputs": [
    {
     "name": "stdout",
     "output_type": "stream",
     "text": [
      "0.9230769230769231\n"
     ]
    }
   ],
   "source": [
    "pca = PCA(n_components=110)\n",
    "pca.fit(X_train)\n",
    "Xr = pca.transform(X_train)\n",
    "Xt = pca.transform(X_test)\n",
    "\n",
    "x = 10\n",
    "mean = 0\n",
    "for i in range(x):\n",
    "    Classifiers = Ensemble_data(Xr, l_train, 20, 0.9, 52, 31)\n",
    "    res = Prediction_d(Classifiers, Xt, l_test, 52)\n",
    "    mean += np.sum(np.equal(res, l_test))/len(res)\n",
    "print(mean/x)\n"
   ]
  },
  {
   "cell_type": "code",
   "execution_count": null,
   "metadata": {},
   "outputs": [],
   "source": [
    "\n",
    "\"\"\"\n",
    "cm = confusion_matrix(l_test, res)\n",
    "\n",
    "plt.matshow(cm, cmap = 'Blues')\n",
    "plt.colorbar()\n",
    "plt.ylabel('Actual')\n",
    "plt.xlabel('Predicted')\n",
    "plt.show()\n",
    "\"\"\""
   ]
  },
  {
   "cell_type": "code",
   "execution_count": 56,
   "metadata": {},
   "outputs": [
    {
     "data": {
      "image/png": "[encoded data removed]",
      "text/plain": [
       "<Figure size 480x480 with 2 Axes>"
      ]
     },
     "metadata": {},
     "output_type": "display_data"
    },
    {
     "name": "stdout",
     "output_type": "stream",
     "text": [
      "Accuracy :  0.9326923076923077\n"
     ]
    }
   ],
   "source": [
    "class RandomizedPCA_LDA(BaseEstimator, ClassifierMixin):\n",
    "    def __init__(self, n_components_pca=5, n_components_lda=1, feature_ratio=0.8):\n",
    "        self.n_components_pca = n_components_pca\n",
    "        self.n_components_lda = n_components_lda\n",
    "        self.feature_ratio = feature_ratio\n",
    "        self.selected_features = None\n",
    "        self.pca = None\n",
    "        self.lda = None\n",
    "\n",
    "    def fit(self, X, y):\n",
    "        # Randomly select a subset of features\n",
    "        n_features = X.shape[1]\n",
    "        n_selected_features = int(n_features * self.feature_ratio)\n",
    "        self.selected_features = np.random.choice(n_features, n_selected_features, replace=False)\n",
    "        \n",
    "        # Apply PCA on the selected features\n",
    "        self.pca = PCA(n_components=self.n_components_pca)\n",
    "        X_reduced = self.pca.fit_transform(X[:, self.selected_features])\n",
    "        \n",
    "        # Apply LDA on the PCA-transformed data\n",
    "        self.lda = LinearDiscriminantAnalysis(n_components=self.n_components_lda)\n",
    "        self.lda.fit(X_reduced, y)\n",
    "        return self\n",
    "\n",
    "    def predict(self, X):\n",
    "        X_reduced = self.pca.transform(X[:, self.selected_features])\n",
    "        return self.lda.predict_proba(X_reduced)\n",
    "    \n",
    "def Ensemble_feature(X, y, T, n_components_pca=5, n_components_lda=1, feature_ratio=0.8):\n",
    "    classifiers = []\n",
    "    for i in range(T):\n",
    "        classifier = RandomizedPCA_LDA(n_components_pca, n_components_lda, feature_ratio)\n",
    "        classifier.fit(X, y)\n",
    "        classifiers.append(classifier)\n",
    "    \n",
    "    return classifiers\n",
    "\n",
    "def Prediction_f(clfs, X_test, l_test, C):\n",
    "    res = np.zeros((l_test.shape[0], C))\n",
    "    for clf in clfs :\n",
    "        res += clf.predict(X_test)\n",
    "    return np.argmax(res, axis=1) + 1\n",
    "\n",
    "Classifiers = Ensemble_feature(X_train, l_train, 10, 200, 51, 0.8)\n",
    "\n",
    "res = Prediction_f(Classifiers, X_test, l_test, 52)\n",
    "\n",
    "cm = confusion_matrix(l_test, res)\n",
    "\n",
    "plt.matshow(cm, cmap = 'Blues')\n",
    "plt.colorbar()\n",
    "plt.ylabel('Actual')\n",
    "plt.xlabel('Predicted')\n",
    "plt.show()\n",
    "\n",
    "print(\"Accuracy : \", sum(np.equal(res, l_test))/len(res))\n"
   ]
  }
 ],
 "metadata": {
  "kernelspec": {
   "display_name": "Python 3",
   "language": "python",
   "name": "python3"
  },
  "language_info": {
   "codemirror_mode": {
    "name": "ipython",
    "version": 3
   },
   "file_extension": ".py",
   "mimetype": "text/x-python",
   "name": "python",
   "nbconvert_exporter": "python",
   "pygments_lexer": "ipython3",
   "version": "3.12.7"
  }
 },
 "nbformat": 4,
 "nbformat_minor": 2
}

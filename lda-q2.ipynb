{
 "cells": [
  {
   "cell_type": "markdown",
   "metadata": {},
   "source": [
    "### Partition face dataset into 8:2 training:test\n",
    "\n",
    "### Apply PCA on training data by use of eigenvectors and eigenvalues of covaraiance matrix S= (1/N)A(A^T)\n",
    "\n",
    "### Apply PCA using eigenvectors and eigenvalues of (1/N)(A^T)A"
   ]
  },
  {
   "cell_type": "code",
   "execution_count": 2,
   "metadata": {},
   "outputs": [],
   "source": [
    "# PCA source: Week 2 slides - Manifold Learning\n",
    "\n",
    "import numpy as np\n",
    "from scipy.io import loadmat\n",
    "from sklearn.model_selection import train_test_split\n",
    "from sklearn.metrics import confusion_matrix\n",
    "import matplotlib.pyplot as plt\n",
    "\n",
    "np.random.seed(42)\n",
    "\n",
    "data = loadmat('face.mat')\n",
    "\n",
    "X = data['X'] # flat images dim (2576,520)\n",
    "# l = data['l'].flatten()  # image Labels (1,520)\n",
    "\n",
    "# Does a 8/2 split of dataset (8 images / 2 images of each person). Training data shuffled. \n",
    "def Q1_partition(data):\n",
    "    X = data['X'] # flat images dim (2576,520)\n",
    "    X_train, X_test = [], []\n",
    "    for i in range(0, 520, 10):\n",
    "        im_train, im_test = train_test_split(X[:, i: i + 10].T, test_size=0.2, random_state=42)\n",
    "        X_train.append(im_train)    \n",
    "        X_test.append(im_test)  \n",
    "  \n",
    "    return  np.array(X_train).reshape(-1, 2576), np.array(X_test).reshape(-1, 2576)"
   ]
  },
  {
   "cell_type": "code",
   "execution_count": null,
   "metadata": {},
   "outputs": [],
   "source": [
    "def display_image(image, label):\n",
    "    # X[:, image_index]\n",
    "    image_height, image_width = 46, 56 \n",
    "    image = image.reshape((image_height, image_width)).T \n",
    "    # label = l[image_index]\n",
    "\n",
    "    plt.imshow(image, cmap='gray', aspect='auto')\n",
    "    plt.title(f\"Face Image - Label: {label}\")\n",
    "    plt.axis('off')\n",
    "    plt.show()\n",
    "    # display_image(X_train[1:2].T, \"hey\")\n",
    "    # display_image(t1[i:i+1].T, \"Hey\")\n",
    "\n",
    "def get_sorted_eigen(M):\n",
    "    eigenvalues, eigenvectors = np.linalg.eig(M)\n",
    "    eigenvalues, eigenvectors = np.real(eigenvalues), np.real(eigenvectors)\n",
    "\n",
    "    sorted_indices = np.argsort(eigenvalues)[::-1]\n",
    "\n",
    "    sorted_eigenvalues = eigenvalues[sorted_indices]\n",
    "    sorted_eigenvectors = eigenvectors[:, sorted_indices]\n",
    "    \n",
    "    return sorted_eigenvalues, sorted_eigenvectors\n",
    "\n",
    "# S = Covariance Matrix, A = mean centred data, N = #samples\n",
    "def PCA(batch, k = 120, inverter = 0):\n",
    "    A, mean, S = process_batch(batch, inverter)\n",
    "    eigenvalues, eigenvectors = get_sorted_eigen(S)\n",
    "    #k = choose_principal_components(threshold, eigenvalues)\n",
    "    \n",
    "    if inverter :\n",
    "        eigenvectors = np.dot(A.T, eigenvectors)\n",
    "        \n",
    "        \n",
    "    return eigenvalues[:k + 1], eigenvectors[:, :k + 1] / np.linalg.norm(eigenvectors[:, :k + 1]), mean\n",
    "\n",
    "def choose_principal_components(threshold, eigenvalues):\n",
    "    covariance_ratios = eigenvalues/np.sum(eigenvalues)\n",
    "    cum_var = 0\n",
    "    for k, ratio in enumerate(covariance_ratios):\n",
    "        cum_var += ratio\n",
    "        if cum_var >= threshold: return k \n",
    "\n",
    "def process_batch(batch, inverter):\n",
    "    mean = np.mean(batch, axis=0)\n",
    "    A = batch - mean\n",
    "    print(f'batch: {batch.shape}')\n",
    "    print(f'A: {A.shape}')\n",
    "    N = A.shape[1]\n",
    "    \n",
    "    if inverter :\n",
    "        S = (1/N) * np.dot(A, A.T)\n",
    "    else :\n",
    "        S = (1/N) * np.dot(A.T, A)\n",
    "        \n",
    "    print(f'S: {S.shape}')\n",
    "    print(f'Mean: {mean.shape}')\n",
    "    return A, mean, S"
   ]
  },
  {
   "cell_type": "code",
   "execution_count": null,
   "metadata": {},
   "outputs": [],
   "source": [
    "# S = Covariance Matrix, A = mean centred data, N = #samples per class, C = #classes\n",
    "def LDA(batch, C, N, k = 120, inverter = 0):\n",
    "    mean, SB, SW = process_batch_LDA(batch, C, N)\n",
    "    eigenvalues, eigenvectors = get_sorted_eigen(np.linalg.inv(SW).dot(SB))\n",
    "    #k = choose_principal_components(threshold, eigenvalues) \n",
    "        \n",
    "    return eigenvalues[:k + 1], eigenvectors[:, :k + 1], mean\n",
    "\n",
    "def process_batch_LDA(batch, C, N):\n",
    "    print(f'batch: {batch.shape}')\n",
    "    class_mean = np.array([np.mean(batch[i*N:(i+1)*N-1,:], axis=0) for i in range(C)])\n",
    "    print(f'Class_mean: {class_mean.shape}') \n",
    "    mean = np.mean(class_mean, axis=0)\n",
    "    print(f'Mean: {mean.shape}')\n",
    "    \n",
    "    SW = np.zeros((batch.shape[1], batch.shape[1]))\n",
    "    for i, c_mean in enumerate(class_mean) :\n",
    "        xn = batch[i*N:(i+1)*N-1,:] - c_mean\n",
    "        for x in xn :\n",
    "            SW += np.dot(x, x.T)\n",
    "    print(f'SW: {SW.shape}')\n",
    "    \n",
    "    SB = np.zeros((batch.shape[1], batch.shape[1]))\n",
    "    for c_mean in class_mean :\n",
    "        SB += N * np.dot((c_mean - mean), (c_mean - mean).T)    \n",
    "    print(f'SB: {SB.shape}')\n",
    "        \n",
    "    \n",
    "    return mean, SW, SB"
   ]
  },
  {
   "cell_type": "code",
   "execution_count": 28,
   "metadata": {},
   "outputs": [
    {
     "name": "stdout",
     "output_type": "stream",
     "text": [
      "batch: (416, 2576)\n",
      "Class_mean: (52, 2576)\n",
      "Mean: (2576,)\n",
      "SW: (2576, 2576)\n",
      "SB: (2576, 2576)\n"
     ]
    }
   ],
   "source": [
    "# They cannot possibly be the same since they have different dimensions. \n",
    "X_train, X_test = Q1_partition(data)\n",
    "##### Look here FELIX - AAT: S = (1/N) A * A^T, ATA: S = (1/N) A^T * A  \n",
    "#eigenvalues_AAT, eigenvectors_AAT, mean = PCA(X_train, 120)\n",
    "#eigenvalues_ATA, eigenvectors_ATA, mean = PCA(X_train, 120, 1)\n",
    "##########\n",
    "eigenvalues, eigenvectors, mean = LDA(X_train, 52, 8, 120)\n"
   ]
  },
  {
   "cell_type": "code",
   "execution_count": 29,
   "metadata": {},
   "outputs": [
    {
     "name": "stdout",
     "output_type": "stream",
     "text": [
      "(2576, 121)\n",
      "-50.75431016179731\n",
      "[-1.97027602e-02 -6.30759597e-01  3.12245359e-06 -2.70881629e-12\n",
      " -8.86854003e-13  3.93468377e-13 -3.07802213e-13 -3.07802213e-13\n",
      "  4.31104779e-13  4.28962628e-13  3.83051741e-13  3.83051741e-13\n",
      "  9.07345264e-13  1.03988805e-12 -3.76476452e-13 -1.65597453e-13\n",
      "  1.21146298e-13  1.21146298e-13 -3.40545414e-14  5.24858016e-14\n",
      "  5.24858016e-14 -1.36818022e-13 -1.36818022e-13  3.97807129e-14\n",
      "  1.39654453e-14  1.39654453e-14  9.00986619e-15  2.71095279e-14\n",
      " -4.55667391e-14 -4.55667391e-14 -5.12395868e-15 -5.12395868e-15\n",
      " -7.46347719e-15  7.75059277e-16  5.71282032e-15  5.71282032e-15\n",
      "  7.19944342e-15  7.19944342e-15  2.17405551e-15  2.17405551e-15\n",
      "  8.27151125e-15 -3.53890512e-15 -3.53890512e-15  1.97525677e-14\n",
      "  1.97525677e-14  5.31926427e-15 -1.55680987e-14 -1.55680987e-14\n",
      " -1.99592749e-14  1.02326759e-14  1.27026016e-14  1.27026016e-14\n",
      " -5.88965269e-15 -5.88965269e-15 -1.11261535e-14 -1.11261535e-14\n",
      " -4.20607167e-16 -4.20607167e-16 -1.51571551e-14 -1.51571551e-14\n",
      "  2.76501497e-15  2.76501497e-15 -9.63349863e-18 -9.63349863e-18\n",
      " -2.96811888e-17 -2.96811888e-17 -6.98859307e-17 -6.98859307e-17\n",
      " -7.43565480e-17 -2.03726173e-17 -2.03726173e-17 -7.96273445e-18\n",
      " -7.96273445e-18  6.11331130e-17 -7.30904779e-17 -7.30904779e-17\n",
      "  1.30200555e-17  1.30200555e-17 -4.43452212e-17 -4.43452212e-17\n",
      " -6.64570228e-18 -6.64570228e-18 -3.64582233e-17 -3.64582233e-17\n",
      " -1.55734131e-17  1.52433887e-17  1.52433887e-17  2.81384609e-17\n",
      "  2.81384609e-17 -1.59982896e-17 -1.59982896e-17  2.70808640e-17\n",
      "  2.70808640e-17  5.11664556e-18  5.20862388e-18 -4.72966286e-18\n",
      " -4.72966286e-18 -2.91865202e-18 -2.91865202e-18 -5.50585267e-20\n",
      " -5.50585267e-20  8.03133575e-18  8.03133575e-18  1.10576539e-17\n",
      "  1.10576539e-17 -1.99767409e-17 -1.88780364e-17 -1.88780364e-17\n",
      "  2.81527903e-17  2.81527903e-17 -1.78542698e-17 -1.78542698e-17\n",
      " -2.10662843e-17  1.47187194e-18 -1.76236157e-19 -1.27644357e-19\n",
      " -1.27644357e-19 -8.77914013e-19  4.90154724e-19  4.90154724e-19\n",
      " -5.10319068e-19]\n"
     ]
    }
   ],
   "source": [
    "print(eigenvectors.shape)\n",
    "print(np.sum(eigenvectors))\n",
    "print(eigenvectors[0])"
   ]
  },
  {
   "cell_type": "code",
   "execution_count": 32,
   "metadata": {},
   "outputs": [
    {
     "name": "stdout",
     "output_type": "stream",
     "text": [
      "1607.0045549295799\n",
      "2879.5604440647653\n"
     ]
    }
   ],
   "source": [
    "def deconstruct(image, eigenvects, mean):\n",
    "    #Project and image on the eigenvectors\n",
    "    \n",
    "    reduced = image - mean\n",
    "    projected = np.zeros((eigenvects.shape[1]))\n",
    "    for i, vector in enumerate(eigenvects.T) :\n",
    "        projected[i] = np.dot(reduced, vector)\n",
    "    return projected\n",
    "\n",
    "def reconstruct(projected, eigenvects, mean) :  \n",
    "    #Reconstruct an image from its projection\n",
    "          \n",
    "    return mean + np.sum((eigenvects * projected), axis=1)\n",
    "\n",
    "def test_image(img, eigenvects, mean, display=0):\n",
    "    #Returns norm of reconstruction error, can display images\n",
    "    \n",
    "    projected = deconstruct(img, eigenvects, mean)\n",
    "    re_image = reconstruct(projected, eigenvects, mean)\n",
    "    \n",
    "    if display :\n",
    "        display_image(img, \"Image 4\")\n",
    "        display_image(re_image, \"Image 4 after reconstruct\")\n",
    "    return(np.linalg.norm(img-re_image))\n",
    "    \n",
    "   \n",
    "print(test_image(X[:, 3], eigenvectors, mean, 0))\n",
    "print(np.mean([test_image(X[:, i], eigenvectors, mean, 0) for i in range(len(X[0]))]))  #mean error\n"
   ]
  },
  {
   "cell_type": "code",
   "execution_count": 33,
   "metadata": {},
   "outputs": [
    {
     "data": {
      "image/png": "[encoded data removed]",
      "text/plain": [
       "<Figure size 480x480 with 2 Axes>"
      ]
     },
     "metadata": {},
     "output_type": "display_data"
    },
    {
     "name": "stdout",
     "output_type": "stream",
     "text": [
      "Accuracy :  0.19230769230769232\n"
     ]
    }
   ],
   "source": [
    "def testing_NN(image, projections, eigenvects, mean) :\n",
    "    #Finds which training image correspond best to this image\n",
    "    \n",
    "    projected = deconstruct(image, eigenvects, mean)\n",
    "    return np.argmin(np.linalg.norm((projections - projected), axis=1))\n",
    "\n",
    "def fulltest(X_test, X_train, eigenvects, mean):\n",
    "    #Compute all testing images and return guessed label\n",
    "    \n",
    "    projections = np.array([deconstruct(X_train[i], eigenvects, mean) for i in range(len(X_train))])\n",
    "    res = []\n",
    "    for image in X_test:\n",
    "        res.append((testing_NN(image, projections, eigenvects, mean) //8) + 1)\n",
    "    return np.array(res)\n",
    "\n",
    "res = fulltest(X_test, X_train, eigenvectors, mean)\n",
    "labels = np.array([j+1 for j in range(52) for i in range(2)])\n",
    "\n",
    "cm = confusion_matrix(labels, res)\n",
    "\n",
    "plt.matshow(cm, cmap = 'Blues')\n",
    "plt.colorbar()\n",
    "plt.ylabel('Actual')\n",
    "plt.xlabel('Predicted')\n",
    "plt.show()\n",
    "\n",
    "print(\"Accuracy : \", sum(np.equal(res, labels))/len(res))"
   ]
  }
 ],
 "metadata": {
  "kernelspec": {
   "display_name": "Python 3",
   "language": "python",
   "name": "python3"
  },
  "language_info": {
   "codemirror_mode": {
    "name": "ipython",
    "version": 3
   },
   "file_extension": ".py",
   "mimetype": "text/x-python",
   "name": "python",
   "nbconvert_exporter": "python",
   "pygments_lexer": "ipython3",
   "version": "3.12.7"
  }
 },
 "nbformat": 4,
 "nbformat_minor": 2
}

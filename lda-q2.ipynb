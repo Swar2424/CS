{
 "cells": [
  {
   "cell_type": "markdown",
   "metadata": {},
   "source": [
    "### Partition face dataset into 8:2 training:test\n",
    "\n",
    "### Apply PCA on training data by use of eigenvectors and eigenvalues of covaraiance matrix S= (1/N)A(A^T)\n",
    "\n",
    "### Apply PCA using eigenvectors and eigenvalues of (1/N)(A^T)A"
   ]
  },
  {
   "cell_type": "code",
   "execution_count": 29,
   "metadata": {},
   "outputs": [],
   "source": [
    "# PCA source: Week 2 slides - Manifold Learning\n",
    "\n",
    "import numpy as np\n",
    "from scipy.io import loadmat\n",
    "from sklearn.model_selection import train_test_split\n",
    "from sklearn.metrics import confusion_matrix\n",
    "import matplotlib.pyplot as plt\n",
    "\n",
    "np.random.seed(42)\n",
    "\n",
    "data = loadmat('face.mat')\n",
    "\n",
    "X = data['X'] # flat images dim (2576,520)\n",
    "# l = data['l'].flatten()  # image Labels (1,520)\n",
    "\n",
    "# Does a 8/2 split of dataset (8 images / 2 images of each person). Training data shuffled. \n",
    "def Q1_partition(data):\n",
    "    X = data['X'] # flat images dim (2576,520)\n",
    "    X_train, X_test = [], []\n",
    "    for i in range(0, 520, 10):\n",
    "        im_train, im_test = train_test_split(X[:, i: i + 10].T, test_size=0.2, random_state=42)\n",
    "        X_train.append(im_train)    \n",
    "        X_test.append(im_test)  \n",
    "  \n",
    "    return  np.array(X_train).reshape(-1, 2576), np.array(X_test).reshape(-1, 2576)"
   ]
  },
  {
   "cell_type": "code",
   "execution_count": 61,
   "metadata": {},
   "outputs": [],
   "source": [
    "def display_image(image, label):\n",
    "    # X[:, image_index]\n",
    "    image_height, image_width = 46, 56 \n",
    "    image = image.reshape((image_height, image_width)).T \n",
    "    # label = l[image_index]\n",
    "\n",
    "    plt.imshow(image, cmap='gray', aspect='auto')\n",
    "    plt.title(f\"Face Image - Label: {label}\")\n",
    "    plt.axis('off')\n",
    "    plt.show()\n",
    "    # display_image(X_train[1:2].T, \"hey\")\n",
    "    # display_image(t1[i:i+1].T, \"Hey\")\n",
    "\n",
    "def get_sorted_eigen(M):\n",
    "    eigenvalues, eigenvectors = np.linalg.eig(M)\n",
    "    eigenvalues, eigenvectors = np.real(eigenvalues), np.real(eigenvectors)\n",
    "\n",
    "    sorted_indices = np.argsort(eigenvalues)[::-1]\n",
    "\n",
    "    sorted_eigenvalues = eigenvalues[sorted_indices]\n",
    "    sorted_eigenvectors = eigenvectors[:, sorted_indices]\n",
    "    \n",
    "    return sorted_eigenvalues, sorted_eigenvectors\n",
    "\n",
    "# S = Covariance Matrix, A = mean centred data, N = #samples\n",
    "def PCA(batch, k = 120, inverter = 0):\n",
    "    A, mean, S = process_batch(batch, inverter)\n",
    "    eigenvalues, eigenvectors = get_sorted_eigen(S)\n",
    "    #k = choose_principal_components(threshold, eigenvalues)\n",
    "    \n",
    "    if inverter :\n",
    "        eigenvectors = np.dot(A.T, eigenvectors)\n",
    "        \n",
    "        \n",
    "    return eigenvalues[:k + 1], eigenvectors[:, :k + 1] / np.linalg.norm(eigenvectors[:, :k + 1], axis=0), mean, A\n",
    "\n",
    "def choose_principal_components(threshold, eigenvalues):\n",
    "    covariance_ratios = eigenvalues/np.sum(eigenvalues)\n",
    "    cum_var = 0\n",
    "    for k, ratio in enumerate(covariance_ratios):\n",
    "        cum_var += ratio\n",
    "        if cum_var >= threshold: return k \n",
    "\n",
    "def process_batch(batch, inverter):\n",
    "    mean = np.mean(batch, axis=0)\n",
    "    A = batch - mean\n",
    "    print(f'batch: {batch.shape}')\n",
    "    print(f'A: {A.shape}')\n",
    "    N = A.shape[1]\n",
    "    \n",
    "    if inverter :\n",
    "        S = (1/N) * np.dot(A, A.T)\n",
    "    else :\n",
    "        S = (1/N) * np.dot(A.T, A)\n",
    "        \n",
    "    print(f'S: {S.shape}')\n",
    "    print(f'Mean: {mean.shape}')\n",
    "    return A, mean, S"
   ]
  },
  {
   "cell_type": "code",
   "execution_count": 62,
   "metadata": {},
   "outputs": [],
   "source": [
    "# S = Covariance Matrix, A = mean centred data, N = #samples per class, C = #classes\n",
    "def LDA(batch, C, N, S, k = 120):\n",
    "    mean, SB, SW = process_batch_LDA(batch, C, N, S)\n",
    "    ST = np.linalg.inv(SW).dot(SB)\n",
    "    print(\"ST : \", ST.shape)\n",
    "    eigenvalues, eigenvectors = get_sorted_eigen(np.linalg.inv(SW).dot(SB))\n",
    "    #k = choose_principal_components(threshold, eigenvalues) \n",
    "    #eigenvectors = np.dot(A.T, eigenvectors)\n",
    "    \n",
    "    eigenvectors = np.dot(ST, eigenvectors)\n",
    "        \n",
    "    return eigenvalues[:k + 1], eigenvectors[:, :k + 1], mean\n",
    "\n",
    "def process_batch_LDA(batch, C, N, S):\n",
    "    print(f'batch: {batch.shape}')\n",
    "    class_mean = np.array([np.mean(batch[i*N:(i+1)*N-1,:], axis=0) for i in range(C)])\n",
    "    print(f'Class_mean: {class_mean.shape}') \n",
    "    mean = np.mean(class_mean, axis=0)\n",
    "    print(f'Mean: {mean.shape}')\n",
    "    \n",
    "    SW = np.zeros((batch.shape[1], batch.shape[1]))\n",
    "    for i, c_mean in enumerate(class_mean) :\n",
    "        xn = batch[i*N:(i+1)*N-1,:] - c_mean\n",
    "        for x in xn :\n",
    "            SW += np.dot(x, x.T)\n",
    "    print(f'SW: {SW.shape}')\n",
    "    \n",
    "    SB = np.zeros((batch.shape[1], batch.shape[1]))\n",
    "    for c_mean in class_mean :\n",
    "        SB += N * np.dot((c_mean - mean), (c_mean - mean).T)    \n",
    "    print(f'SB: {SB.shape}')\n",
    "        \n",
    "    SW = S @ SW @ S.T\n",
    "    SB = S @ SB @ S.T\n",
    "    \n",
    "    print(f'SW2: {SW.shape}')\n",
    "    print(f'SB2: {SB.shape}')\n",
    "    print(\"SW rank : \", np.linalg.matrix_rank(SW))\n",
    "    print(\"SB rank : \", np.linalg.matrix_rank(SB))\n",
    "    \n",
    "    return mean, SW, SB"
   ]
  },
  {
   "cell_type": "code",
   "execution_count": 63,
   "metadata": {},
   "outputs": [],
   "source": [
    "def deconstruct(image, eigenvects, mean):\n",
    "    #Project and image on the eigenvectors\n",
    "    \n",
    "    reduced = image - mean\n",
    "    projected = np.zeros((eigenvects.shape[1]))\n",
    "    for i, vector in enumerate(eigenvects.T) :\n",
    "        projected[i] = np.dot(reduced, vector)\n",
    "    return projected\n",
    "\n",
    "def reconstruct(projected, eigenvects, mean) :  \n",
    "    #Reconstruct an image from its projection\n",
    "          \n",
    "    return mean + np.sum((eigenvects * projected), axis=1)\n",
    "\n",
    "def test_image(img, eigenvects, mean, display=0):\n",
    "    #Returns norm of reconstruction error, can display images\n",
    "    \n",
    "    projected = deconstruct(img, eigenvects, mean)\n",
    "    re_image = reconstruct(projected, eigenvects, mean)\n",
    "    \n",
    "    if display :\n",
    "        display_image(img, \"Image 4\")\n",
    "        display_image(re_image, \"Image 4 after reconstruct\")\n",
    "    return(np.linalg.norm(img-re_image))"
   ]
  },
  {
   "cell_type": "code",
   "execution_count": 64,
   "metadata": {},
   "outputs": [
    {
     "name": "stdout",
     "output_type": "stream",
     "text": [
      "batch: (416, 2576)\n",
      "A: (416, 2576)\n",
      "S: (416, 416)\n",
      "Mean: (2576,)\n",
      "(416, 2576) (2576, 201)\n",
      "(416, 201)\n"
     ]
    }
   ],
   "source": [
    "X_train, X_test = Q1_partition(data)\n",
    "\n",
    "eigenvalues_ATA, eigenvectors_PCA, mean_PCA, S = PCA(X_train, 200, 1)\n",
    "\n",
    "print(S.shape, eigenvectors_PCA.shape)\n",
    "\n",
    "projections = np.array([deconstruct(X_train[i], eigenvectors_PCA, mean_PCA) for i in range(len(X_train))])\n",
    "print(projections.shape)"
   ]
  },
  {
   "cell_type": "code",
   "execution_count": 65,
   "metadata": {},
   "outputs": [
    {
     "name": "stdout",
     "output_type": "stream",
     "text": [
      "batch: (416, 2576)\n",
      "Class_mean: (52, 2576)\n",
      "Mean: (2576,)\n",
      "SW: (2576, 2576)\n",
      "SB: (2576, 2576)\n",
      "SW2: (416, 416)\n",
      "SB2: (416, 416)\n",
      "SW rank :  1\n",
      "SB rank :  1\n",
      "ST :  (416, 416)\n",
      "(416, 52) (2576, 201)\n"
     ]
    }
   ],
   "source": [
    "eigenvalues, eigenvectors, mean = LDA(X_train, 52, 8, S, 51)\n",
    "\n",
    "print(eigenvectors.shape, eigenvectors_PCA.shape)"
   ]
  },
  {
   "cell_type": "code",
   "execution_count": null,
   "metadata": {},
   "outputs": [
    {
     "name": "stdout",
     "output_type": "stream",
     "text": [
      "(201,)\n",
      "(416, 201)\n"
     ]
    },
    {
     "ename": "ValueError",
     "evalue": "shapes (201,) and (2576,) not aligned: 201 (dim 0) != 2576 (dim 0)",
     "output_type": "error",
     "traceback": [
      "\u001b[1;31m---------------------------------------------------------------------------\u001b[0m",
      "\u001b[1;31mValueError\u001b[0m                                Traceback (most recent call last)",
      "Cell \u001b[1;32mIn[55], line 32\u001b[0m\n\u001b[0;32m     29\u001b[0m \u001b[38;5;28mprint\u001b[39m(mean_projected\u001b[38;5;241m.\u001b[39mshape)\n\u001b[0;32m     30\u001b[0m \u001b[38;5;28mprint\u001b[39m(projections\u001b[38;5;241m.\u001b[39mshape)\n\u001b[1;32m---> 32\u001b[0m \u001b[38;5;28mprint\u001b[39m(\u001b[43mtest_image\u001b[49m\u001b[43m(\u001b[49m\u001b[43mprojections\u001b[49m\u001b[43m[\u001b[49m\u001b[38;5;241;43m0\u001b[39;49m\u001b[43m,\u001b[49m\u001b[43m:\u001b[49m\u001b[43m]\u001b[49m\u001b[43m \u001b[49m\u001b[43m,\u001b[49m\u001b[43m \u001b[49m\u001b[43meigenvectors\u001b[49m\u001b[43m,\u001b[49m\u001b[43m \u001b[49m\u001b[43mmean_projected\u001b[49m\u001b[43m,\u001b[49m\u001b[43m \u001b[49m\u001b[38;5;241;43m1\u001b[39;49m\u001b[43m)\u001b[49m)\n\u001b[0;32m     33\u001b[0m \u001b[38;5;28mprint\u001b[39m(np\u001b[38;5;241m.\u001b[39mmean([test_image(deconstruct(X[:, i], eigenvectors_PCA, mean_PCA), eigenvectors, mean, \u001b[38;5;241m0\u001b[39m) \u001b[38;5;28;01mfor\u001b[39;00m i \u001b[38;5;129;01min\u001b[39;00m \u001b[38;5;28mrange\u001b[39m(\u001b[38;5;28mlen\u001b[39m(X[\u001b[38;5;241m0\u001b[39m]))]))  \u001b[38;5;66;03m#mean error\u001b[39;00m\n",
      "Cell \u001b[1;32mIn[55], line 18\u001b[0m, in \u001b[0;36mtest_image\u001b[1;34m(img, eigenvects, mean, display)\u001b[0m\n\u001b[0;32m     15\u001b[0m \u001b[38;5;28;01mdef\u001b[39;00m \u001b[38;5;21mtest_image\u001b[39m(img, eigenvects, mean, display\u001b[38;5;241m=\u001b[39m\u001b[38;5;241m0\u001b[39m):\n\u001b[0;32m     16\u001b[0m     \u001b[38;5;66;03m#Returns norm of reconstruction error, can display images\u001b[39;00m\n\u001b[1;32m---> 18\u001b[0m     projected \u001b[38;5;241m=\u001b[39m \u001b[43mdeconstruct\u001b[49m\u001b[43m(\u001b[49m\u001b[43mimg\u001b[49m\u001b[43m,\u001b[49m\u001b[43m \u001b[49m\u001b[43meigenvects\u001b[49m\u001b[43m,\u001b[49m\u001b[43m \u001b[49m\u001b[43mmean\u001b[49m\u001b[43m)\u001b[49m\n\u001b[0;32m     19\u001b[0m     re_image \u001b[38;5;241m=\u001b[39m reconstruct(projected, eigenvects, mean)\n\u001b[0;32m     21\u001b[0m     \u001b[38;5;28;01mif\u001b[39;00m display :\n",
      "Cell \u001b[1;32mIn[55], line 7\u001b[0m, in \u001b[0;36mdeconstruct\u001b[1;34m(image, eigenvects, mean)\u001b[0m\n\u001b[0;32m      5\u001b[0m projected \u001b[38;5;241m=\u001b[39m np\u001b[38;5;241m.\u001b[39mzeros((eigenvects\u001b[38;5;241m.\u001b[39mshape[\u001b[38;5;241m1\u001b[39m]))\n\u001b[0;32m      6\u001b[0m \u001b[38;5;28;01mfor\u001b[39;00m i, vector \u001b[38;5;129;01min\u001b[39;00m \u001b[38;5;28menumerate\u001b[39m(eigenvects\u001b[38;5;241m.\u001b[39mT) :\n\u001b[1;32m----> 7\u001b[0m     projected[i] \u001b[38;5;241m=\u001b[39m \u001b[43mnp\u001b[49m\u001b[38;5;241;43m.\u001b[39;49m\u001b[43mdot\u001b[49m\u001b[43m(\u001b[49m\u001b[43mreduced\u001b[49m\u001b[43m,\u001b[49m\u001b[43m \u001b[49m\u001b[43mvector\u001b[49m\u001b[43m)\u001b[49m\n\u001b[0;32m      8\u001b[0m \u001b[38;5;28;01mreturn\u001b[39;00m projected\n",
      "\u001b[1;31mValueError\u001b[0m: shapes (201,) and (2576,) not aligned: 201 (dim 0) != 2576 (dim 0)"
     ]
    }
   ],
   "source": [
    "projections = np.array([deconstruct(X_train[i], eigenvectors_PCA, mean_PCA) for i in range(len(X_train))])\n",
    "mean_projected = np.mean(projections, axis=0)\n",
    "print(mean_projected.shape)\n",
    "print(projections.shape)\n",
    "\n",
    "print(test_image(projections[0,:] , eigenvectors, mean_projected, 1))\n",
    "print(np.mean([test_image(deconstruct(X[:, i], eigenvectors_PCA, mean_PCA), eigenvectors, mean, 0) for i in range(len(X[0]))]))  #mean error\n"
   ]
  },
  {
   "cell_type": "code",
   "execution_count": 13,
   "metadata": {},
   "outputs": [
    {
     "data": {
      "image/png": "[encoded data removed]",
      "text/plain": [
       "<Figure size 480x480 with 2 Axes>"
      ]
     },
     "metadata": {},
     "output_type": "display_data"
    },
    {
     "name": "stdout",
     "output_type": "stream",
     "text": [
      "Accuracy :  0.4423076923076923\n"
     ]
    }
   ],
   "source": [
    "def testing_NN(image, projections, eigenvects, mean) :\n",
    "    #Finds which training image correspond best to this image\n",
    "    \n",
    "    projected = deconstruct(image, eigenvects, mean)\n",
    "    return np.argmin(np.linalg.norm((projections - projected), axis=1))\n",
    "\n",
    "def fulltest(X_test, X_train, eigenvects, mean):\n",
    "    #Compute all testing images and return guessed label\n",
    "    \n",
    "    projections = np.array([deconstruct(X_train[i], eigenvects, mean) for i in range(len(X_train))])\n",
    "    res = []\n",
    "    for image in X_test:\n",
    "        res.append((testing_NN(image, projections, eigenvects, mean) //8) + 1)\n",
    "    return np.array(res)\n",
    "\n",
    "res = fulltest(X_test, X_train, eigenvectors, mean)\n",
    "labels = np.array([j+1 for j in range(52) for i in range(2)])\n",
    "\n",
    "cm = confusion_matrix(labels, res)\n",
    "\n",
    "plt.matshow(cm, cmap = 'Blues')\n",
    "plt.colorbar()\n",
    "plt.ylabel('Actual')\n",
    "plt.xlabel('Predicted')\n",
    "plt.show()\n",
    "\n",
    "print(\"Accuracy : \", sum(np.equal(res, labels))/len(res))"
   ]
  }
 ],
 "metadata": {
  "kernelspec": {
   "display_name": "Python 3",
   "language": "python",
   "name": "python3"
  },
  "language_info": {
   "codemirror_mode": {
    "name": "ipython",
    "version": 3
   },
   "file_extension": ".py",
   "mimetype": "text/x-python",
   "name": "python",
   "nbconvert_exporter": "python",
   "pygments_lexer": "ipython3",
   "version": "3.12.7"
  }
 },
 "nbformat": 4,
 "nbformat_minor": 2
}

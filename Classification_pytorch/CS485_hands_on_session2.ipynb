{
 "cells": [
  {
   "cell_type": "markdown",
   "metadata": {
    "id": "S-h9hbM6ACmg"
   },
   "source": [
    "# Convolutional Neural Network for multi-class classification\n",
    "###LeNet\n",
    "\n",
    "\n"
   ]
  },
  {
   "cell_type": "markdown",
   "metadata": {
    "id": "v5_r66RmACmh"
   },
   "source": [
    "## Introduction\n",
    "\n",
    "This tutorial demonstrates the basic workflow of using TensorFlow with a simple CNN model. After loading the  MNIST data-set with images of hand-written digits, we define and optimize a simple mathematical model in TensorFlow. The results are then plotted and discussed.\n",
    "\n",
    "You should be familiar with basic linear algebra, Python and the Jupyter Notebook editor. It also helps if you have a basic understanding of Machine Learning and classification.\n"
   ]
  },
  {
   "cell_type": "markdown",
   "metadata": {
    "id": "_YnXathVACmj"
   },
   "source": [
    "## Imports"
   ]
  },
  {
   "cell_type": "code",
   "execution_count": 5,
   "metadata": {
    "id": "2foV5zPJACmk"
   },
   "outputs": [],
   "source": [
    "%matplotlib inline\n",
    "import matplotlib.pyplot as plt\n",
    "import torch\n",
    "import numpy as np"
   ]
  },
  {
   "cell_type": "code",
   "execution_count": 6,
   "metadata": {
    "colab": {
     "base_uri": "https://localhost:8080/"
    },
    "id": "gpC54IwXACmp",
    "outputId": "eb0d6fbb-4c91-4532-f6b8-8419c8c2f53e"
   },
   "outputs": [
    {
     "name": "stdout",
     "output_type": "stream",
     "text": [
      "2.5.1+cpu\n"
     ]
    },
    {
     "ename": "AssertionError",
     "evalue": "Torch not compiled with CUDA enabled",
     "output_type": "error",
     "traceback": [
      "\u001b[1;31m---------------------------------------------------------------------------\u001b[0m",
      "\u001b[1;31mAssertionError\u001b[0m                            Traceback (most recent call last)",
      "Cell \u001b[1;32mIn[6], line 3\u001b[0m\n\u001b[0;32m      1\u001b[0m \u001b[38;5;28mprint\u001b[39m(torch\u001b[38;5;241m.\u001b[39m__version__)\n\u001b[0;32m      2\u001b[0m \u001b[38;5;28;01mfrom\u001b[39;00m \u001b[38;5;21;01mtorch\u001b[39;00m \u001b[38;5;28;01mimport\u001b[39;00m cuda\n\u001b[1;32m----> 3\u001b[0m \u001b[38;5;28mprint\u001b[39m(cuda\u001b[38;5;241m.\u001b[39mget_device_name(\u001b[43mcuda\u001b[49m\u001b[38;5;241;43m.\u001b[39;49m\u001b[43mcurrent_device\u001b[49m\u001b[43m(\u001b[49m\u001b[43m)\u001b[49m))\n",
      "File \u001b[1;32m~\\AppData\\Local\\Packages\\PythonSoftwareFoundation.Python.3.12_qbz5n2kfra8p0\\LocalCache\\local-packages\\Python312\\site-packages\\torch\\cuda\\__init__.py:940\u001b[0m, in \u001b[0;36mcurrent_device\u001b[1;34m()\u001b[0m\n\u001b[0;32m    938\u001b[0m \u001b[38;5;28;01mdef\u001b[39;00m \u001b[38;5;21mcurrent_device\u001b[39m() \u001b[38;5;241m-\u001b[39m\u001b[38;5;241m>\u001b[39m \u001b[38;5;28mint\u001b[39m:\n\u001b[0;32m    939\u001b[0m \u001b[38;5;250m    \u001b[39m\u001b[38;5;124mr\u001b[39m\u001b[38;5;124;03m\"\"\"Return the index of a currently selected device.\"\"\"\u001b[39;00m\n\u001b[1;32m--> 940\u001b[0m     \u001b[43m_lazy_init\u001b[49m\u001b[43m(\u001b[49m\u001b[43m)\u001b[49m\n\u001b[0;32m    941\u001b[0m     \u001b[38;5;28;01mreturn\u001b[39;00m torch\u001b[38;5;241m.\u001b[39m_C\u001b[38;5;241m.\u001b[39m_cuda_getDevice()\n",
      "File \u001b[1;32m~\\AppData\\Local\\Packages\\PythonSoftwareFoundation.Python.3.12_qbz5n2kfra8p0\\LocalCache\\local-packages\\Python312\\site-packages\\torch\\cuda\\__init__.py:310\u001b[0m, in \u001b[0;36m_lazy_init\u001b[1;34m()\u001b[0m\n\u001b[0;32m    305\u001b[0m     \u001b[38;5;28;01mraise\u001b[39;00m \u001b[38;5;167;01mRuntimeError\u001b[39;00m(\n\u001b[0;32m    306\u001b[0m         \u001b[38;5;124m\"\u001b[39m\u001b[38;5;124mCannot re-initialize CUDA in forked subprocess. To use CUDA with \u001b[39m\u001b[38;5;124m\"\u001b[39m\n\u001b[0;32m    307\u001b[0m         \u001b[38;5;124m\"\u001b[39m\u001b[38;5;124mmultiprocessing, you must use the \u001b[39m\u001b[38;5;124m'\u001b[39m\u001b[38;5;124mspawn\u001b[39m\u001b[38;5;124m'\u001b[39m\u001b[38;5;124m start method\u001b[39m\u001b[38;5;124m\"\u001b[39m\n\u001b[0;32m    308\u001b[0m     )\n\u001b[0;32m    309\u001b[0m \u001b[38;5;28;01mif\u001b[39;00m \u001b[38;5;129;01mnot\u001b[39;00m \u001b[38;5;28mhasattr\u001b[39m(torch\u001b[38;5;241m.\u001b[39m_C, \u001b[38;5;124m\"\u001b[39m\u001b[38;5;124m_cuda_getDeviceCount\u001b[39m\u001b[38;5;124m\"\u001b[39m):\n\u001b[1;32m--> 310\u001b[0m     \u001b[38;5;28;01mraise\u001b[39;00m \u001b[38;5;167;01mAssertionError\u001b[39;00m(\u001b[38;5;124m\"\u001b[39m\u001b[38;5;124mTorch not compiled with CUDA enabled\u001b[39m\u001b[38;5;124m\"\u001b[39m)\n\u001b[0;32m    311\u001b[0m \u001b[38;5;28;01mif\u001b[39;00m _cudart \u001b[38;5;129;01mis\u001b[39;00m \u001b[38;5;28;01mNone\u001b[39;00m:\n\u001b[0;32m    312\u001b[0m     \u001b[38;5;28;01mraise\u001b[39;00m \u001b[38;5;167;01mAssertionError\u001b[39;00m(\n\u001b[0;32m    313\u001b[0m         \u001b[38;5;124m\"\u001b[39m\u001b[38;5;124mlibcudart functions unavailable. It looks like you have a broken build?\u001b[39m\u001b[38;5;124m\"\u001b[39m\n\u001b[0;32m    314\u001b[0m     )\n",
      "\u001b[1;31mAssertionError\u001b[0m: Torch not compiled with CUDA enabled"
     ]
    }
   ],
   "source": [
    "print(torch.__version__)\n",
    "from torch import cuda\n",
    "print(cuda.get_device_name(cuda.current_device()))"
   ]
  },
  {
   "cell_type": "markdown",
   "metadata": {
    "id": "sjjnFsniACmt"
   },
   "source": [
    "## Load Data"
   ]
  },
  {
   "cell_type": "markdown",
   "metadata": {
    "id": "KlzSZJSZACmu"
   },
   "source": [
    "The MNIST data-set is about 12 MB and will be downloaded automatically if it is not located in the given path."
   ]
  },
  {
   "cell_type": "markdown",
   "metadata": {
    "id": "DgTpxVha38CB"
   },
   "source": [
    "#Setup the EPOCH and BATCH_SIZE values affect the training speed and model accuracy.\n",
    "#Set Shuffle Flag True for the data shuffle the training data."
   ]
  },
  {
   "cell_type": "code",
   "execution_count": 7,
   "metadata": {
    "id": "myZFkGnS38CB"
   },
   "outputs": [],
   "source": [
    "EPOCHS = 5\n",
    "\n",
    "train_kwargs = {'batch_size': 128, 'shuffle': True}\n",
    "valid_kwargs = {'batch_size': 128, 'shuffle': False}\n",
    "test_kwargs = {'batch_size': 128, 'shuffle': False}"
   ]
  },
  {
   "cell_type": "code",
   "execution_count": 8,
   "metadata": {
    "colab": {
     "base_uri": "https://localhost:8080/"
    },
    "id": "46Svhjgp38CC",
    "outputId": "372d87e6-0f75-4a30-9d92-5bd6ad9d5d00"
   },
   "outputs": [
    {
     "name": "stdout",
     "output_type": "stream",
     "text": [
      "Downloading http://yann.lecun.com/exdb/mnist/train-images-idx3-ubyte.gz\n",
      "Failed to download (trying next):\n",
      "HTTP Error 403: Forbidden\n",
      "\n",
      "Downloading https://ossci-datasets.s3.amazonaws.com/mnist/train-images-idx3-ubyte.gz\n",
      "Downloading https://ossci-datasets.s3.amazonaws.com/mnist/train-images-idx3-ubyte.gz to ../data\\MNIST\\raw\\train-images-idx3-ubyte.gz\n"
     ]
    },
    {
     "name": "stderr",
     "output_type": "stream",
     "text": [
      "100.0%\n"
     ]
    },
    {
     "name": "stdout",
     "output_type": "stream",
     "text": [
      "Extracting ../data\\MNIST\\raw\\train-images-idx3-ubyte.gz to ../data\\MNIST\\raw\n",
      "\n",
      "Downloading http://yann.lecun.com/exdb/mnist/train-labels-idx1-ubyte.gz\n",
      "Failed to download (trying next):\n",
      "HTTP Error 403: Forbidden\n",
      "\n",
      "Downloading https://ossci-datasets.s3.amazonaws.com/mnist/train-labels-idx1-ubyte.gz\n",
      "Downloading https://ossci-datasets.s3.amazonaws.com/mnist/train-labels-idx1-ubyte.gz to ../data\\MNIST\\raw\\train-labels-idx1-ubyte.gz\n"
     ]
    },
    {
     "name": "stderr",
     "output_type": "stream",
     "text": [
      "100.0%\n"
     ]
    },
    {
     "name": "stdout",
     "output_type": "stream",
     "text": [
      "Extracting ../data\\MNIST\\raw\\train-labels-idx1-ubyte.gz to ../data\\MNIST\\raw\n",
      "\n",
      "Downloading http://yann.lecun.com/exdb/mnist/t10k-images-idx3-ubyte.gz\n",
      "Failed to download (trying next):\n",
      "HTTP Error 403: Forbidden\n",
      "\n",
      "Downloading https://ossci-datasets.s3.amazonaws.com/mnist/t10k-images-idx3-ubyte.gz\n",
      "Downloading https://ossci-datasets.s3.amazonaws.com/mnist/t10k-images-idx3-ubyte.gz to ../data\\MNIST\\raw\\t10k-images-idx3-ubyte.gz\n"
     ]
    },
    {
     "name": "stderr",
     "output_type": "stream",
     "text": [
      "100.0%\n"
     ]
    },
    {
     "name": "stdout",
     "output_type": "stream",
     "text": [
      "Extracting ../data\\MNIST\\raw\\t10k-images-idx3-ubyte.gz to ../data\\MNIST\\raw\n",
      "\n",
      "Downloading http://yann.lecun.com/exdb/mnist/t10k-labels-idx1-ubyte.gz\n",
      "Failed to download (trying next):\n",
      "HTTP Error 403: Forbidden\n",
      "\n",
      "Downloading https://ossci-datasets.s3.amazonaws.com/mnist/t10k-labels-idx1-ubyte.gz\n",
      "Downloading https://ossci-datasets.s3.amazonaws.com/mnist/t10k-labels-idx1-ubyte.gz to ../data\\MNIST\\raw\\t10k-labels-idx1-ubyte.gz\n"
     ]
    },
    {
     "name": "stderr",
     "output_type": "stream",
     "text": [
      "100.0%\n"
     ]
    },
    {
     "name": "stdout",
     "output_type": "stream",
     "text": [
      "Extracting ../data\\MNIST\\raw\\t10k-labels-idx1-ubyte.gz to ../data\\MNIST\\raw\n",
      "\n"
     ]
    }
   ],
   "source": [
    "from torchvision import datasets, transforms\n",
    "\n",
    "transform=transforms.Compose([\n",
    "        # Pad images with 0s\n",
    "        transforms.Pad((0,4,4,0), fill=0, padding_mode='constant'),\n",
    "\n",
    "        transforms.ToTensor(),\n",
    "        transforms.Normalize((0.1307,), (0.3081,)),\n",
    "        ])\n",
    "dataset_full = datasets.MNIST('../data', train=True, download=True,\n",
    "                   transform=transform)\n",
    "valid_size = 5000\n",
    "train_size = len(dataset_full) - 5000\n",
    "dataset_train, dataset_valid = torch.utils.data.random_split(dataset_full, [train_size, valid_size])\n",
    "\n",
    "dataset_test = datasets.MNIST('../data', train=False, transform=transform)\n",
    "\n",
    "train_loader = torch.utils.data.DataLoader(dataset_train,**train_kwargs)\n",
    "valid_loader = torch.utils.data.DataLoader(dataset_valid,**valid_kwargs)\n",
    "test_loader = torch.utils.data.DataLoader(dataset_test, **test_kwargs)"
   ]
  },
  {
   "cell_type": "code",
   "execution_count": 9,
   "metadata": {
    "colab": {
     "base_uri": "https://localhost:8080/"
    },
    "id": "eP-kls6x38CC",
    "outputId": "40c8f76d-da39-44bb-978b-baa15047ba14"
   },
   "outputs": [
    {
     "name": "stdout",
     "output_type": "stream",
     "text": [
      "\n",
      "Image Shape: torch.Size([1, 32, 32])\n",
      "\n",
      "Training Set:   55000 samples\n",
      "Validation Set:   5000 samples\n",
      "Test Set:       10000 samples\n"
     ]
    }
   ],
   "source": [
    "print()\n",
    "print(\"Image Shape: {}\".format(dataset_train[0][0].shape))\n",
    "print()\n",
    "print(\"Training Set:   {} samples\".format(len(dataset_train)))\n",
    "print(\"Validation Set:   {} samples\".format(len(dataset_valid)))\n",
    "print(\"Test Set:       {} samples\".format(len(dataset_test)))"
   ]
  },
  {
   "cell_type": "markdown",
   "metadata": {
    "id": "C0CXStYuACmx"
   },
   "source": [
    "The MNIST data-set has now been loaded and consists of 70.000 images and class-numbers for the images. The data-set is split into 3 mutually exclusive sub-sets. We will only use the training and test-sets in this tutorial.\n",
    "\n",
    "\n",
    "The MNIST data that TensorFlow pre-loads comes as 28x28x1 images.\n",
    "\n",
    "However, the LeNet architecture only accepts 32x32xC images, where C is the number of color channels.\n",
    "\n",
    "In order to reformat the MNIST data into a shape that LeNet will accept, we pad the data with two rows of zeros on the top and bottom, and two columns of zeros on the left and right (28+2+2 = 32).\n",
    "\n",
    "You do not need to modify this section."
   ]
  },
  {
   "cell_type": "code",
   "execution_count": 17,
   "metadata": {
    "colab": {
     "base_uri": "https://localhost:8080/",
     "height": 235
    },
    "id": "yPVzo-NEGO6z",
    "outputId": "cf98c71d-ac60-4f5e-df4c-8ff8d1a66ba0"
   },
   "outputs": [
    {
     "name": "stdout",
     "output_type": "stream",
     "text": [
      "Label of the image is:1\n"
     ]
    },
    {
     "data": {
      "image/png": "[encoded data removed]",
      "text/plain": [
       "<Figure size 200x200 with 1 Axes>"
      ]
     },
     "metadata": {},
     "output_type": "display_data"
    }
   ],
   "source": [
    "import pdb\n",
    "import random\n",
    "import numpy as np\n",
    "import matplotlib.pyplot as plt\n",
    "%matplotlib inline\n",
    "\n",
    "index = random.randint(0, len(dataset_train))\n",
    "image = dataset_train[index][0].squeeze()\n",
    "\n",
    "plt.figure(figsize=(2,2))\n",
    "plt.imshow(image)\n",
    "print(\"Label of the image is:%d\"%dataset_train[index][1])"
   ]
  },
  {
   "cell_type": "markdown",
   "metadata": {
    "id": "vwXqrFbFHpoA"
   },
   "source": [
    "#Input\n",
    "The LeNet architecture accepts a 32x32xC image as input, where C is the number of color channels. Since MNIST images are grayscale, C is 1 in this case.\n",
    "\n",
    "#Architecture\n",
    "##Layer 1: Convolutional.\n",
    "####The output shape should be 28x28x6.\n",
    "\n",
    "####Activation. Your choice of activation function.\n",
    "\n",
    "####Pooling. The output shape should be 14x14x6.\n",
    "\n",
    "#Layer 2: Convolutional.\n",
    "####The output shape should be 10x10x16.\n",
    "\n",
    "####Activation. Your choice of activation function.\n",
    "\n",
    "####Pooling. The output shape should be 5x5x16.\n",
    "\n",
    "####Flatten. Flatten the output shape of the final pooling layer such that it's 1D instead of 3D. The easiest way to do is by using pytorch flatten function, which is already imported for you.\n",
    "\n",
    "#Layer 3: Fully Connected.\n",
    "####This should have 120 outputs.\n",
    "####Activation. Your choice of activation function.\n",
    "\n",
    "#Layer 4: Fully Connected.\n",
    "####This should have 84 outputs.\n",
    "\n",
    "####Activation. Your choice of activation function.\n",
    "\n",
    "#Layer 5: Fully Connected (Logits).\n",
    "####This should have 10 outputs.\n",
    "\n",
    "\n",
    "\n",
    "\n"
   ]
  },
  {
   "cell_type": "markdown",
   "metadata": {
    "id": "SsnwJVLAvlzY"
   },
   "source": [
    "![alt text](https://cdn-images-1.medium.com/max/2200/1*1TI1aGBZ4dybR6__DI9dzA.png)"
   ]
  },
  {
   "cell_type": "code",
   "execution_count": 18,
   "metadata": {
    "id": "p94ptW5DIxFw"
   },
   "outputs": [],
   "source": [
    "# Pytorch modification From https://www.kaggle.com/usingtc/lenet-with-pytorch\n",
    "\n",
    "from torch import nn, optim\n",
    "from torch.autograd import Variable\n",
    "import torch.nn.functional as F\n",
    "\n",
    "class LeNet(nn.Module):\n",
    "    def __init__(self):\n",
    "        super(LeNet, self).__init__()\n",
    "        # Layer 1: Convolutional. Input = 32x32x1. Output = 28x28x6.\n",
    "        self.conv1 = nn.Conv2d(1, 6, (5,5))\n",
    "        # Layer 2: Convolutional. Output = 10x10x16.\n",
    "        self.conv2 = nn.Conv2d(6, 16, (5,5))\n",
    "        # Layer 3: Fully Connected. Input = 400. Output = 120.\n",
    "        self.fc1   = nn.Linear(400, 120)\n",
    "        # Layer 4: Fully Connected. Input = 120. Output = 84.\n",
    "        self.fc2   = nn.Linear(120, 84)\n",
    "        # Layer 5: Fully Connected. Input = 84. Output = 10.\n",
    "        self.fc3   = nn.Linear(84, 10)\n",
    "    def forward(self, x):\n",
    "        # Activation. # Pooling. Input = 28x28x6. Output = 14x14x6.\n",
    "        x = F.max_pool2d(F.relu(self.conv1(x)), (2,2))\n",
    "         # Activation. # Pooling. Input = 10x10x16. Output = 5x5x16.\n",
    "        x = F.max_pool2d(F.relu(self.conv2(x)), (2,2))\n",
    "        # Flatten. Input = 5x5x16. Output = 400.\n",
    "        x = x.flatten(start_dim=1)\n",
    "        # Activation.\n",
    "        x = F.relu(self.fc1(x))\n",
    "        # Activation.\n",
    "        x = F.relu(self.fc2(x))\n",
    "        x = self.fc3(x)\n",
    "        return x\n",
    "    def num_flat_features(self, x):\n",
    "        size = x.size()[1:]\n",
    "        num_features = 1\n",
    "        for s in size:\n",
    "            num_features *= s\n",
    "        return num_features"
   ]
  },
  {
   "cell_type": "markdown",
   "metadata": {
    "id": "uaPmXui-ACm2"
   },
   "source": [
    " ### One-Hot Encoding\n",
    "\n",
    "The output-data is loaded as both integer class-numbers and so-called One-Hot encoded arrays. This means the class-numbers have been converted from a single integer to a vector whose length equals the number of possible classes. All elements of the vector are zero except for the $i$'th element which is 1 and means the class is $i$. For example, the One-Hot encoded labels for the first 5 images in the test-set are:"
   ]
  },
  {
   "cell_type": "markdown",
   "metadata": {
    "id": "pWNmsAnAJUPX"
   },
   "source": [
    "#Training Pipeline\n",
    "Create a training pipeline that uses the model to classify MNIST data.\n",
    "\n"
   ]
  },
  {
   "cell_type": "code",
   "execution_count": 19,
   "metadata": {
    "id": "VAClop3538CD"
   },
   "outputs": [],
   "source": [
    "# Train & test part from https://github.com/activatedgeek/LeNet-5\n",
    "def train(epoch):\n",
    "    global cur_batch_win\n",
    "    net.train()\n",
    "    loss_list, batch_list = [], []\n",
    "    for i, (images, labels) in enumerate(train_loader):\n",
    "        optimizer.zero_grad()\n",
    "        output = net(images)\n",
    "        loss = criterion(output, labels)\n",
    "\n",
    "        loss_list.append(loss.detach().cpu().item())\n",
    "        batch_list.append(i+1)\n",
    "\n",
    "        if i % 10 == 0:\n",
    "            print('Train - Epoch %d, Batch: %d, Loss: %f' % (epoch, i, loss.detach().cpu().item()))\n",
    "\n",
    "        loss.backward()\n",
    "        optimizer.step()"
   ]
  },
  {
   "cell_type": "code",
   "execution_count": 20,
   "metadata": {
    "colab": {
     "base_uri": "https://localhost:8080/"
    },
    "id": "gJ-W0jTa38CD",
    "outputId": "d2387af4-96da-4c8b-8559-b56f242d38a5"
   },
   "outputs": [
    {
     "name": "stdout",
     "output_type": "stream",
     "text": [
      "LeNet(\n",
      "  (conv1): Conv2d(1, 6, kernel_size=(5, 5), stride=(1, 1))\n",
      "  (conv2): Conv2d(6, 16, kernel_size=(5, 5), stride=(1, 1))\n",
      "  (fc1): Linear(in_features=400, out_features=120, bias=True)\n",
      "  (fc2): Linear(in_features=120, out_features=84, bias=True)\n",
      "  (fc3): Linear(in_features=84, out_features=10, bias=True)\n",
      ")\n"
     ]
    }
   ],
   "source": [
    "net = LeNet()\n",
    "print (net)\n",
    "\n",
    "learning_rate = 0.001\n",
    "criterion = nn.CrossEntropyLoss()\n",
    "#optimizer = optim.Adam(net.parameters(), lr=learning_rate)\n",
    "optimizer = optim.SGD(net.parameters(), lr=learning_rate)"
   ]
  },
  {
   "cell_type": "markdown",
   "metadata": {
    "id": "dr0JL3zUJm5e"
   },
   "source": [
    "#Function to Evaluate Model Evaluation\n",
    "Evaluate how well the loss and accuracy of the model for a given dataset.\n",
    "\n",
    "\n"
   ]
  },
  {
   "cell_type": "code",
   "execution_count": 21,
   "metadata": {
    "id": "yTHnk0FJJpEp"
   },
   "outputs": [],
   "source": [
    "def evaluate(target_loader, target_dataset):\n",
    "    predictions = []\n",
    "    net.eval()\n",
    "    total_correct = 0\n",
    "    avg_loss = 0.0\n",
    "    for i, (images, labels) in enumerate(target_loader):\n",
    "        output = net(images)\n",
    "        avg_loss += criterion(output, labels).sum()\n",
    "        pred = output.detach().max(1)[1]\n",
    "        total_correct += pred.eq(labels.view_as(pred)).sum()\n",
    "        predictions.append(pred)\n",
    "\n",
    "    avg_loss /= len(target_dataset)\n",
    "    # print('Test Avg. Loss: %f, Accuracy: %f' % (avg_loss.detach().cpu().item(), float(total_correct) / len(data_test)))\n",
    "    accuracy    = float(total_correct) / len(target_dataset)\n",
    "    return accuracy, np.array(torch.cat(predictions))\n",
    "    #or if you are in latest Pytorch world\n",
    "    #return accuracy, np.array(torch.vstack(predictions))"
   ]
  },
  {
   "cell_type": "markdown",
   "metadata": {
    "id": "sxGln04oJt8u"
   },
   "source": [
    "#Train the Model\n",
    "Run the training data through the training pipeline to train the model.\n",
    "\n",
    "Before each epoch, shuffle the training set.\n",
    "\n",
    "After each epoch, measure the loss and accuracy of the validation set.\n",
    "\n",
    "Save the model after training.\n",
    "\n"
   ]
  },
  {
   "cell_type": "code",
   "execution_count": 22,
   "metadata": {
    "colab": {
     "base_uri": "https://localhost:8080/"
    },
    "id": "7GT4aPh5ACm4",
    "outputId": "3e2fcad2-9bce-49f3-f601-7577c1692be0"
   },
   "outputs": [
    {
     "name": "stdout",
     "output_type": "stream",
     "text": [
      "Training...\n",
      "\n",
      "Train - Epoch 1, Batch: 0, Loss: 2.299202\n",
      "Train - Epoch 1, Batch: 10, Loss: 2.325673\n",
      "Train - Epoch 1, Batch: 20, Loss: 2.300133\n",
      "Train - Epoch 1, Batch: 30, Loss: 2.313176\n",
      "Train - Epoch 1, Batch: 40, Loss: 2.301591\n",
      "Train - Epoch 1, Batch: 50, Loss: 2.310964\n",
      "Train - Epoch 1, Batch: 60, Loss: 2.311920\n",
      "Train - Epoch 1, Batch: 70, Loss: 2.305897\n",
      "Train - Epoch 1, Batch: 80, Loss: 2.304856\n",
      "Train - Epoch 1, Batch: 90, Loss: 2.313939\n",
      "Train - Epoch 1, Batch: 100, Loss: 2.311245\n",
      "Train - Epoch 1, Batch: 110, Loss: 2.305510\n",
      "Train - Epoch 1, Batch: 120, Loss: 2.301301\n",
      "Train - Epoch 1, Batch: 130, Loss: 2.302632\n",
      "Train - Epoch 1, Batch: 140, Loss: 2.302267\n",
      "Train - Epoch 1, Batch: 150, Loss: 2.297115\n",
      "Train - Epoch 1, Batch: 160, Loss: 2.303658\n",
      "Train - Epoch 1, Batch: 170, Loss: 2.308526\n",
      "Train - Epoch 1, Batch: 180, Loss: 2.309228\n",
      "Train - Epoch 1, Batch: 190, Loss: 2.300923\n",
      "Train - Epoch 1, Batch: 200, Loss: 2.298861\n",
      "Train - Epoch 1, Batch: 210, Loss: 2.300243\n",
      "Train - Epoch 1, Batch: 220, Loss: 2.304869\n",
      "Train - Epoch 1, Batch: 230, Loss: 2.294722\n",
      "Train - Epoch 1, Batch: 240, Loss: 2.302723\n",
      "Train - Epoch 1, Batch: 250, Loss: 2.305984\n",
      "Train - Epoch 1, Batch: 260, Loss: 2.306636\n",
      "Train - Epoch 1, Batch: 270, Loss: 2.305369\n",
      "Train - Epoch 1, Batch: 280, Loss: 2.306885\n",
      "Train - Epoch 1, Batch: 290, Loss: 2.304590\n",
      "Train - Epoch 1, Batch: 300, Loss: 2.310966\n",
      "Train - Epoch 1, Batch: 310, Loss: 2.314977\n",
      "Train - Epoch 1, Batch: 320, Loss: 2.294662\n",
      "Train - Epoch 1, Batch: 330, Loss: 2.314346\n",
      "Train - Epoch 1, Batch: 340, Loss: 2.303601\n",
      "Train - Epoch 1, Batch: 350, Loss: 2.295485\n",
      "Train - Epoch 1, Batch: 360, Loss: 2.301914\n",
      "Train - Epoch 1, Batch: 370, Loss: 2.301610\n",
      "Train - Epoch 1, Batch: 380, Loss: 2.307268\n",
      "Train - Epoch 1, Batch: 390, Loss: 2.310725\n",
      "Train - Epoch 1, Batch: 400, Loss: 2.307107\n",
      "Train - Epoch 1, Batch: 410, Loss: 2.294160\n",
      "Train - Epoch 1, Batch: 420, Loss: 2.306421\n",
      "EPOCH 1 ...\n",
      "Validation Accuracy = 0.115\n",
      "\n",
      "Train - Epoch 2, Batch: 0, Loss: 2.316201\n",
      "Train - Epoch 2, Batch: 10, Loss: 2.308307\n",
      "Train - Epoch 2, Batch: 20, Loss: 2.307007\n",
      "Train - Epoch 2, Batch: 30, Loss: 2.314747\n",
      "Train - Epoch 2, Batch: 40, Loss: 2.298451\n",
      "Train - Epoch 2, Batch: 50, Loss: 2.298485\n",
      "Train - Epoch 2, Batch: 60, Loss: 2.305923\n",
      "Train - Epoch 2, Batch: 70, Loss: 2.309014\n",
      "Train - Epoch 2, Batch: 80, Loss: 2.303892\n",
      "Train - Epoch 2, Batch: 90, Loss: 2.303108\n",
      "Train - Epoch 2, Batch: 100, Loss: 2.298175\n",
      "Train - Epoch 2, Batch: 110, Loss: 2.300130\n",
      "Train - Epoch 2, Batch: 120, Loss: 2.299777\n",
      "Train - Epoch 2, Batch: 130, Loss: 2.306781\n",
      "Train - Epoch 2, Batch: 140, Loss: 2.301625\n",
      "Train - Epoch 2, Batch: 150, Loss: 2.300550\n",
      "Train - Epoch 2, Batch: 160, Loss: 2.299456\n",
      "Train - Epoch 2, Batch: 170, Loss: 2.295899\n",
      "Train - Epoch 2, Batch: 180, Loss: 2.313397\n",
      "Train - Epoch 2, Batch: 190, Loss: 2.300150\n",
      "Train - Epoch 2, Batch: 200, Loss: 2.299958\n",
      "Train - Epoch 2, Batch: 210, Loss: 2.302722\n",
      "Train - Epoch 2, Batch: 220, Loss: 2.299872\n",
      "Train - Epoch 2, Batch: 230, Loss: 2.303216\n",
      "Train - Epoch 2, Batch: 240, Loss: 2.302395\n",
      "Train - Epoch 2, Batch: 250, Loss: 2.302927\n",
      "Train - Epoch 2, Batch: 260, Loss: 2.295397\n",
      "Train - Epoch 2, Batch: 270, Loss: 2.298865\n",
      "Train - Epoch 2, Batch: 280, Loss: 2.295733\n",
      "Train - Epoch 2, Batch: 290, Loss: 2.301143\n",
      "Train - Epoch 2, Batch: 300, Loss: 2.309368\n",
      "Train - Epoch 2, Batch: 310, Loss: 2.305158\n",
      "Train - Epoch 2, Batch: 320, Loss: 2.296328\n",
      "Train - Epoch 2, Batch: 330, Loss: 2.303206\n",
      "Train - Epoch 2, Batch: 340, Loss: 2.306562\n",
      "Train - Epoch 2, Batch: 350, Loss: 2.300748\n",
      "Train - Epoch 2, Batch: 360, Loss: 2.302197\n",
      "Train - Epoch 2, Batch: 370, Loss: 2.302023\n",
      "Train - Epoch 2, Batch: 380, Loss: 2.308255\n",
      "Train - Epoch 2, Batch: 390, Loss: 2.300795\n",
      "Train - Epoch 2, Batch: 400, Loss: 2.295199\n",
      "Train - Epoch 2, Batch: 410, Loss: 2.310325\n",
      "Train - Epoch 2, Batch: 420, Loss: 2.298433\n",
      "EPOCH 2 ...\n",
      "Validation Accuracy = 0.114\n",
      "\n",
      "Train - Epoch 3, Batch: 0, Loss: 2.297345\n",
      "Train - Epoch 3, Batch: 10, Loss: 2.300187\n",
      "Train - Epoch 3, Batch: 20, Loss: 2.308520\n",
      "Train - Epoch 3, Batch: 30, Loss: 2.303681\n",
      "Train - Epoch 3, Batch: 40, Loss: 2.303557\n",
      "Train - Epoch 3, Batch: 50, Loss: 2.303393\n",
      "Train - Epoch 3, Batch: 60, Loss: 2.296965\n",
      "Train - Epoch 3, Batch: 70, Loss: 2.298817\n",
      "Train - Epoch 3, Batch: 80, Loss: 2.294411\n",
      "Train - Epoch 3, Batch: 90, Loss: 2.306423\n",
      "Train - Epoch 3, Batch: 100, Loss: 2.302563\n",
      "Train - Epoch 3, Batch: 110, Loss: 2.300577\n",
      "Train - Epoch 3, Batch: 120, Loss: 2.302392\n",
      "Train - Epoch 3, Batch: 130, Loss: 2.300315\n",
      "Train - Epoch 3, Batch: 140, Loss: 2.297590\n",
      "Train - Epoch 3, Batch: 150, Loss: 2.308952\n",
      "Train - Epoch 3, Batch: 160, Loss: 2.297316\n",
      "Train - Epoch 3, Batch: 170, Loss: 2.294822\n",
      "Train - Epoch 3, Batch: 180, Loss: 2.292213\n",
      "Train - Epoch 3, Batch: 190, Loss: 2.297539\n",
      "Train - Epoch 3, Batch: 200, Loss: 2.297996\n",
      "Train - Epoch 3, Batch: 210, Loss: 2.294268\n",
      "Train - Epoch 3, Batch: 220, Loss: 2.297027\n",
      "Train - Epoch 3, Batch: 230, Loss: 2.295138\n",
      "Train - Epoch 3, Batch: 240, Loss: 2.299808\n",
      "Train - Epoch 3, Batch: 250, Loss: 2.300079\n",
      "Train - Epoch 3, Batch: 260, Loss: 2.293199\n",
      "Train - Epoch 3, Batch: 270, Loss: 2.297232\n",
      "Train - Epoch 3, Batch: 280, Loss: 2.293666\n",
      "Train - Epoch 3, Batch: 290, Loss: 2.295121\n",
      "Train - Epoch 3, Batch: 300, Loss: 2.291986\n",
      "Train - Epoch 3, Batch: 310, Loss: 2.301039\n",
      "Train - Epoch 3, Batch: 320, Loss: 2.298298\n",
      "Train - Epoch 3, Batch: 330, Loss: 2.298601\n",
      "Train - Epoch 3, Batch: 340, Loss: 2.300901\n",
      "Train - Epoch 3, Batch: 350, Loss: 2.301228\n",
      "Train - Epoch 3, Batch: 360, Loss: 2.297998\n",
      "Train - Epoch 3, Batch: 370, Loss: 2.297358\n",
      "Train - Epoch 3, Batch: 380, Loss: 2.300339\n",
      "Train - Epoch 3, Batch: 390, Loss: 2.298333\n",
      "Train - Epoch 3, Batch: 400, Loss: 2.299205\n",
      "Train - Epoch 3, Batch: 410, Loss: 2.293825\n",
      "Train - Epoch 3, Batch: 420, Loss: 2.297699\n",
      "EPOCH 3 ...\n",
      "Validation Accuracy = 0.113\n",
      "\n",
      "Train - Epoch 4, Batch: 0, Loss: 2.299608\n",
      "Train - Epoch 4, Batch: 10, Loss: 2.301270\n",
      "Train - Epoch 4, Batch: 20, Loss: 2.298796\n",
      "Train - Epoch 4, Batch: 30, Loss: 2.293057\n",
      "Train - Epoch 4, Batch: 40, Loss: 2.292925\n",
      "Train - Epoch 4, Batch: 50, Loss: 2.293513\n",
      "Train - Epoch 4, Batch: 60, Loss: 2.294248\n",
      "Train - Epoch 4, Batch: 70, Loss: 2.296288\n",
      "Train - Epoch 4, Batch: 80, Loss: 2.290875\n",
      "Train - Epoch 4, Batch: 90, Loss: 2.295429\n",
      "Train - Epoch 4, Batch: 100, Loss: 2.287104\n",
      "Train - Epoch 4, Batch: 110, Loss: 2.294669\n",
      "Train - Epoch 4, Batch: 120, Loss: 2.297413\n",
      "Train - Epoch 4, Batch: 130, Loss: 2.298143\n",
      "Train - Epoch 4, Batch: 140, Loss: 2.297839\n",
      "Train - Epoch 4, Batch: 150, Loss: 2.296117\n",
      "Train - Epoch 4, Batch: 160, Loss: 2.302627\n",
      "Train - Epoch 4, Batch: 170, Loss: 2.298376\n",
      "Train - Epoch 4, Batch: 180, Loss: 2.296969\n",
      "Train - Epoch 4, Batch: 190, Loss: 2.298460\n",
      "Train - Epoch 4, Batch: 200, Loss: 2.295832\n",
      "Train - Epoch 4, Batch: 210, Loss: 2.294326\n",
      "Train - Epoch 4, Batch: 220, Loss: 2.296138\n",
      "Train - Epoch 4, Batch: 230, Loss: 2.296651\n",
      "Train - Epoch 4, Batch: 240, Loss: 2.297728\n",
      "Train - Epoch 4, Batch: 250, Loss: 2.294556\n",
      "Train - Epoch 4, Batch: 260, Loss: 2.289829\n",
      "Train - Epoch 4, Batch: 270, Loss: 2.293044\n",
      "Train - Epoch 4, Batch: 280, Loss: 2.296529\n",
      "Train - Epoch 4, Batch: 290, Loss: 2.296420\n",
      "Train - Epoch 4, Batch: 300, Loss: 2.294852\n",
      "Train - Epoch 4, Batch: 310, Loss: 2.295881\n",
      "Train - Epoch 4, Batch: 320, Loss: 2.288802\n",
      "Train - Epoch 4, Batch: 330, Loss: 2.290344\n",
      "Train - Epoch 4, Batch: 340, Loss: 2.281518\n",
      "Train - Epoch 4, Batch: 350, Loss: 2.287651\n",
      "Train - Epoch 4, Batch: 360, Loss: 2.296730\n",
      "Train - Epoch 4, Batch: 370, Loss: 2.289768\n",
      "Train - Epoch 4, Batch: 380, Loss: 2.298306\n",
      "Train - Epoch 4, Batch: 390, Loss: 2.283052\n",
      "Train - Epoch 4, Batch: 400, Loss: 2.296305\n",
      "Train - Epoch 4, Batch: 410, Loss: 2.287910\n",
      "Train - Epoch 4, Batch: 420, Loss: 2.281711\n",
      "EPOCH 4 ...\n",
      "Validation Accuracy = 0.109\n",
      "\n",
      "Model saved\n"
     ]
    }
   ],
   "source": [
    "print(\"Training...\")\n",
    "print()\n",
    "for e in range(1, EPOCHS):\n",
    "    train(e)\n",
    "    validation_accuracy, validation_predictions = evaluate(valid_loader, dataset_valid)\n",
    "    print(\"EPOCH {} ...\".format(e))\n",
    "    print(\"Validation Accuracy = {:.3f}\".format(validation_accuracy))\n",
    "    print()\n",
    "\n",
    "torch.save(\n",
    "    {\n",
    "        'lenet': net.state_dict(),\n",
    "        'opt': optimizer.state_dict(),\n",
    "    },\n",
    "    ('model_saved.model'),\n",
    ")\n",
    "print(\"Model saved\")"
   ]
  },
  {
   "cell_type": "markdown",
   "metadata": {
    "id": "fcepyP5UACm8"
   },
   "source": [
    "#Evaluate the Model\n",
    "Once you are completely satisfied with your model, evaluate the performance of the model on the test set.\n",
    "\n",
    "Be sure to only do this once!\n",
    "\n",
    "If you were to measure the performance of your trained model on the test set, then improve your model, and then measure the performance of your model on the test set again, that would invalidate your test results. You wouldn't get a true measure of how well your model would perform against real data.\n",
    "\n"
   ]
  },
  {
   "cell_type": "code",
   "execution_count": 23,
   "metadata": {
    "colab": {
     "base_uri": "https://localhost:8080/"
    },
    "id": "SCf3CSnJACm8",
    "outputId": "03cbba6c-afed-457c-e89e-6c8f4425329f"
   },
   "outputs": [
    {
     "name": "stdout",
     "output_type": "stream",
     "text": [
      "Test Accuracy = 0.117\n"
     ]
    }
   ],
   "source": [
    "test_accuracy, test_predictions = evaluate(test_loader, dataset_test)\n",
    "print(\"Test Accuracy = {:.3f}\".format(test_accuracy))"
   ]
  },
  {
   "cell_type": "markdown",
   "metadata": {
    "id": "2Cfv1V1nACm_"
   },
   "source": [
    "#Functions for visualisations\n",
    "\n"
   ]
  },
  {
   "cell_type": "code",
   "execution_count": 24,
   "metadata": {
    "id": "ovQ-ymZOvl0s"
   },
   "outputs": [],
   "source": [
    "def plot_images(images, cls_true, cls_pred=None):\n",
    "    assert len(images) == len(cls_true) == 9\n",
    "    img_shape = (32, 32)\n",
    "\n",
    "    # Create figure with 3x3 sub-plots.\n",
    "    fig, axes = plt.subplots(3, 3)\n",
    "    fig.subplots_adjust(hspace=0.3, wspace=0.3)\n",
    "\n",
    "    for i, ax in enumerate(axes.flat):\n",
    "        # Plot image.\n",
    "        ax.imshow(images[i].reshape(img_shape), cmap='binary')\n",
    "\n",
    "        # Show true and predicted classes.\n",
    "        if cls_pred is None:\n",
    "            xlabel = \"True: {0}\".format(cls_true[i])\n",
    "        else:\n",
    "            xlabel = \"True: {0}, Pred: {1}\".format(cls_true[i], cls_pred[i])\n",
    "\n",
    "        ax.set_xlabel(xlabel)\n",
    "\n",
    "        # Remove ticks from the plot.\n",
    "        ax.set_xticks([])\n",
    "        ax.set_yticks([])\n",
    "\n",
    "    # Ensure the plot is shown correctly with multiple plots\n",
    "    # in a single Notebook cell.\n",
    "    plt.show()"
   ]
  },
  {
   "cell_type": "code",
   "execution_count": 25,
   "metadata": {
    "id": "3o9PDWJQvl0x"
   },
   "outputs": [],
   "source": [
    "#Direct access to dataset object is absolutely not recommended in bigger dataset.\n",
    "y_test = []\n",
    "for i, (images, labels) in enumerate(test_loader):\n",
    "    y_test.append(labels)\n",
    "\n",
    "X_test = []\n",
    "for i, (images, labels) in enumerate(test_loader):\n",
    "    X_test.append(images)\n",
    "X_test = torch.cat(X_test)"
   ]
  },
  {
   "cell_type": "code",
   "execution_count": null,
   "metadata": {
    "colab": {
     "base_uri": "https://localhost:8080/",
     "height": 500
    },
    "id": "-IzbkY2p38CE",
    "outputId": "03391ce8-e44b-484b-f0bd-7f8b5deccaf6"
   },
   "outputs": [
    {
     "ename": "AttributeError",
     "evalue": "module 'numpy' has no attribute 'int'.\n`np.int` was a deprecated alias for the builtin `int`. To avoid this error in existing code, use `int` by itself. Doing this will not modify any behavior and is safe. When replacing `np.int`, you may wish to use e.g. `np.int64` or `np.int32` to specify the precision. If you wish to review your current use, check the release note link for additional information.\nThe aliases was originally deprecated in NumPy 1.20; for more details and guidance see the original release note at:\n    https://numpy.org/devdocs/release/1.20.0-notes.html#deprecations",
     "output_type": "error",
     "traceback": [
      "\u001b[1;31m---------------------------------------------------------------------------\u001b[0m",
      "\u001b[1;31mAttributeError\u001b[0m                            Traceback (most recent call last)",
      "Cell \u001b[1;32mIn[26], line 25\u001b[0m\n\u001b[0;32m     20\u001b[0m     \u001b[38;5;66;03m# Plot the first 9 images.\u001b[39;00m\n\u001b[0;32m     21\u001b[0m     plot_images(images\u001b[38;5;241m=\u001b[39mimages[\u001b[38;5;241m0\u001b[39m:\u001b[38;5;241m9\u001b[39m],\n\u001b[0;32m     22\u001b[0m                 cls_true\u001b[38;5;241m=\u001b[39mcls_true[\u001b[38;5;241m0\u001b[39m:\u001b[38;5;241m9\u001b[39m],\n\u001b[0;32m     23\u001b[0m                 cls_pred\u001b[38;5;241m=\u001b[39mcls_pred[\u001b[38;5;241m0\u001b[39m:\u001b[38;5;241m9\u001b[39m]\u001b[38;5;241m.\u001b[39mastype(np\u001b[38;5;241m.\u001b[39mint))\n\u001b[1;32m---> 25\u001b[0m \u001b[43mplot_example_errors\u001b[49m\u001b[43m(\u001b[49m\u001b[43mtest_predictions\u001b[49m\u001b[43m,\u001b[49m\u001b[43m \u001b[49m\u001b[43mtorch\u001b[49m\u001b[38;5;241;43m.\u001b[39;49m\u001b[43mcat\u001b[49m\u001b[43m(\u001b[49m\u001b[43my_test\u001b[49m\u001b[43m)\u001b[49m\u001b[43m)\u001b[49m\n",
      "Cell \u001b[1;32mIn[26], line 23\u001b[0m, in \u001b[0;36mplot_example_errors\u001b[1;34m(y_pred, y_true)\u001b[0m\n\u001b[0;32m     18\u001b[0m cls_true \u001b[38;5;241m=\u001b[39m y_true[incorrect]\n\u001b[0;32m     20\u001b[0m \u001b[38;5;66;03m# Plot the first 9 images.\u001b[39;00m\n\u001b[0;32m     21\u001b[0m plot_images(images\u001b[38;5;241m=\u001b[39mimages[\u001b[38;5;241m0\u001b[39m:\u001b[38;5;241m9\u001b[39m],\n\u001b[0;32m     22\u001b[0m             cls_true\u001b[38;5;241m=\u001b[39mcls_true[\u001b[38;5;241m0\u001b[39m:\u001b[38;5;241m9\u001b[39m],\n\u001b[1;32m---> 23\u001b[0m             cls_pred\u001b[38;5;241m=\u001b[39mcls_pred[\u001b[38;5;241m0\u001b[39m:\u001b[38;5;241m9\u001b[39m]\u001b[38;5;241m.\u001b[39mastype(\u001b[43mnp\u001b[49m\u001b[38;5;241;43m.\u001b[39;49m\u001b[43mint\u001b[49m))\n",
      "File \u001b[1;32m~\\AppData\\Local\\Packages\\PythonSoftwareFoundation.Python.3.12_qbz5n2kfra8p0\\LocalCache\\local-packages\\Python312\\site-packages\\numpy\\__init__.py:338\u001b[0m, in \u001b[0;36m__getattr__\u001b[1;34m(attr)\u001b[0m\n\u001b[0;32m    333\u001b[0m     warnings\u001b[38;5;241m.\u001b[39mwarn(\n\u001b[0;32m    334\u001b[0m         \u001b[38;5;124mf\u001b[39m\u001b[38;5;124m\"\u001b[39m\u001b[38;5;124mIn the future `np.\u001b[39m\u001b[38;5;132;01m{\u001b[39;00mattr\u001b[38;5;132;01m}\u001b[39;00m\u001b[38;5;124m` will be defined as the \u001b[39m\u001b[38;5;124m\"\u001b[39m\n\u001b[0;32m    335\u001b[0m         \u001b[38;5;124m\"\u001b[39m\u001b[38;5;124mcorresponding NumPy scalar.\u001b[39m\u001b[38;5;124m\"\u001b[39m, \u001b[38;5;167;01mFutureWarning\u001b[39;00m, stacklevel\u001b[38;5;241m=\u001b[39m\u001b[38;5;241m2\u001b[39m)\n\u001b[0;32m    337\u001b[0m \u001b[38;5;28;01mif\u001b[39;00m attr \u001b[38;5;129;01min\u001b[39;00m __former_attrs__:\n\u001b[1;32m--> 338\u001b[0m     \u001b[38;5;28;01mraise\u001b[39;00m \u001b[38;5;167;01mAttributeError\u001b[39;00m(__former_attrs__[attr])\n\u001b[0;32m    340\u001b[0m \u001b[38;5;28;01mif\u001b[39;00m attr \u001b[38;5;241m==\u001b[39m \u001b[38;5;124m'\u001b[39m\u001b[38;5;124mtesting\u001b[39m\u001b[38;5;124m'\u001b[39m:\n\u001b[0;32m    341\u001b[0m     \u001b[38;5;28;01mimport\u001b[39;00m \u001b[38;5;21;01mnumpy\u001b[39;00m\u001b[38;5;21;01m.\u001b[39;00m\u001b[38;5;21;01mtesting\u001b[39;00m \u001b[38;5;28;01mas\u001b[39;00m \u001b[38;5;21;01mtesting\u001b[39;00m\n",
      "\u001b[1;31mAttributeError\u001b[0m: module 'numpy' has no attribute 'int'.\n`np.int` was a deprecated alias for the builtin `int`. To avoid this error in existing code, use `int` by itself. Doing this will not modify any behavior and is safe. When replacing `np.int`, you may wish to use e.g. `np.int64` or `np.int32` to specify the precision. If you wish to review your current use, check the release note link for additional information.\nThe aliases was originally deprecated in NumPy 1.20; for more details and guidance see the original release note at:\n    https://numpy.org/devdocs/release/1.20.0-notes.html#deprecations"
     ]
    }
   ],
   "source": [
    "\n",
    "def plot_example_errors(y_pred, y_true):\n",
    "    # Use TensorFlow to get a list of boolean values\n",
    "    # whether each test-image has been correctly classified,\n",
    "    # and a list for the predicted class of each image.\n",
    "    correct_prediction = np.equal(y_pred, y_true)\n",
    "\n",
    "    # Negate the boolean array.\n",
    "    incorrect = np.equal(correct_prediction, False).bool()\n",
    "\n",
    "    # Get the images from the test-set that have been\n",
    "    # incorrectly classified.\n",
    "    images = X_test[incorrect]\n",
    "\n",
    "    # Get the predicted classes for those images.\n",
    "    cls_pred = y_pred[incorrect]\n",
    "\n",
    "    # Get the true classes for those images.\n",
    "    cls_true = y_true[incorrect]\n",
    "\n",
    "    # Plot the first 9 images.\n",
    "    plot_images(images=images[0:9],\n",
    "                cls_true=cls_true[0:9],\n",
    "                cls_pred=cls_pred[0:9].astype(int))\n",
    "\n",
    "plot_example_errors(test_predictions, torch.cat(y_test))"
   ]
  },
  {
   "cell_type": "markdown",
   "metadata": {
    "id": "9lS27YKqVXYF"
   },
   "source": []
  },
  {
   "cell_type": "markdown",
   "metadata": {
    "id": "b70Zh1Wgvl01"
   },
   "source": [
    "License (MIT)\n",
    "Copyright (c) 2016 by Magnus Erik Hvass Pedersen\n",
    "\n",
    "Permission is hereby granted, free of charge, to any person obtaining a copy of this software and associated documentation files (the \"Software\"), to deal in the Software without restriction, including without limitation the rights to use, copy, modify, merge, publish, distribute, sublicense, and/or sell copies of the Software, and to permit persons to whom the Software is furnished to do so, subject to the following conditions:\n",
    "\n",
    "The above copyright notice and this permission notice shall be included in all copies or substantial portions of the Software.\n",
    "\n",
    "THE SOFTWARE IS PROVIDED \"AS IS\", WITHOUT WARRANTY OF ANY KIND, EXPRESS OR IMPLIED, INCLUDING BUT NOT LIMITED TO THE WARRANTIES OF MERCHANTABILITY, FITNESS FOR A PARTICULAR PURPOSE AND NONINFRINGEMENT. IN NO EVENT SHALL THE AUTHORS OR COPYRIGHT HOLDERS BE LIABLE FOR ANY CLAIM, DAMAGES OR OTHER LIABILITY, WHETHER IN AN ACTION OF CONTRACT, TORT OR OTHERWISE, ARISING FROM, OUT OF OR IN CONNECTION WITH THE SOFTWARE OR THE USE OR OTHER DEALINGS IN THE SOFTWARE.\n"
   ]
  }
 ],
 "metadata": {
  "accelerator": "GPU",
  "colab": {
   "gpuType": "T4",
   "provenance": []
  },
  "kernelspec": {
   "display_name": "Python 3",
   "name": "python3"
  },
  "language_info": {
   "codemirror_mode": {
    "name": "ipython",
    "version": 3
   },
   "file_extension": ".py",
   "mimetype": "text/x-python",
   "name": "python",
   "nbconvert_exporter": "python",
   "pygments_lexer": "ipython3",
   "version": "3.12.7"
  }
 },
 "nbformat": 4,
 "nbformat_minor": 0
}

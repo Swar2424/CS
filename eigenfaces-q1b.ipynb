{
 "cells": [
  {
   "cell_type": "markdown",
   "metadata": {},
   "source": [
    "### Partition face dataset into 8:2 training:test\n",
    "\n",
    "### Apply PCA on training data by use of eigenvectors and eigenvalues of covaraiance matrix S= (1/N)A(A^T)\n",
    "\n",
    "### Apply PCA using eigenvectors and eigenvalues of (1/N)(A^T)A"
   ]
  },
  {
   "cell_type": "code",
   "execution_count": 39,
   "metadata": {},
   "outputs": [],
   "source": [
    "# PCA source: Week 2 slides - Manifold Learning\n",
    "\n",
    "import numpy as np\n",
    "from scipy.io import loadmat\n",
    "from sklearn.model_selection import train_test_split\n",
    "from sklearn.metrics import confusion_matrix\n",
    "import matplotlib.pyplot as plt\n",
    "\n",
    "np.random.seed(42)\n",
    "\n",
    "data = loadmat('face.mat')\n",
    "\n",
    "X = data['X'] # flat images dim (2576,520)\n",
    "# l = data['l'].flatten()  # image Labels (1,520)\n",
    "\n",
    "# Does a 8/2 split of dataset (8 images / 2 images of each person). Training data shuffled. \n",
    "def Q1_partition(data):\n",
    "    X = data['X'] # flat images dim (2576,520)\n",
    "    X_train, X_test = [], []\n",
    "    for i in range(0, 520, 10):\n",
    "        im_train, im_test = train_test_split(X[:, i: i + 10].T, test_size=0.2, random_state=42)\n",
    "        X_train.append(im_train)    \n",
    "        X_test.append(im_test)  \n",
    "  \n",
    "    return  np.array(X_train).reshape(-1, 2576), np.array(X_test).reshape(-1, 2576)"
   ]
  },
  {
   "cell_type": "code",
   "execution_count": 72,
   "metadata": {},
   "outputs": [],
   "source": [
    "def display_image(image, label):\n",
    "    # X[:, image_index]\n",
    "    image_height, image_width = 46, 56 \n",
    "    image = image.reshape((image_height, image_width)).T \n",
    "    # label = l[image_index]\n",
    "\n",
    "    plt.imshow(image, cmap='gray', aspect='auto')\n",
    "    plt.title(f\"Face Image - Label: {label}\")\n",
    "    plt.axis('off')\n",
    "    plt.show()\n",
    "    # display_image(X_train[1:2].T, \"hey\")\n",
    "    # display_image(t1[i:i+1].T, \"Hey\")\n",
    "\n",
    "def get_sorted_eigen(M):\n",
    "    eigenvalues, eigenvectors = np.linalg.eig(M)\n",
    "    eigenvalues, eigenvectors = np.real(eigenvalues), np.real(eigenvectors)\n",
    "\n",
    "    sorted_indices = np.argsort(eigenvalues)[::-1]\n",
    "\n",
    "    sorted_eigenvalues = eigenvalues[sorted_indices]\n",
    "    sorted_eigenvectors = eigenvectors[:, sorted_indices]\n",
    "    \n",
    "    return sorted_eigenvalues, sorted_eigenvectors\n",
    "\n",
    "# S = Covariance Matrix, A = mean centred data, N = #samples\n",
    "def PCA(batch, k = 120, inverter = 0):\n",
    "    A, mean, S = process_batch(batch, inverter)\n",
    "    eigenvalues, eigenvectors = get_sorted_eigen(S)\n",
    "    #k = choose_principal_components(threshold, eigenvalues)\n",
    "    \n",
    "    if inverter :\n",
    "        eigenvectors = np.dot(A.T, eigenvectors)\n",
    "        \n",
    "        \n",
    "    return eigenvalues[:k + 1], eigenvectors[:, :k + 1] / np.linalg.norm(eigenvectors[:, :k + 1]), mean\n",
    "\n",
    "def choose_principal_components(threshold, eigenvalues):\n",
    "    covariance_ratios = eigenvalues/np.sum(eigenvalues)\n",
    "    cum_var = 0\n",
    "    for k, ratio in enumerate(covariance_ratios):\n",
    "        cum_var += ratio\n",
    "        if cum_var >= threshold: return k \n",
    "\n",
    "def process_batch(batch, inverter):\n",
    "    mean = np.mean(batch, axis=0)\n",
    "    A = batch - mean\n",
    "    print(f'batch: {batch.shape}')\n",
    "    print(f'A: {A.shape}')\n",
    "    N = A.shape[1]\n",
    "    \n",
    "    if inverter :\n",
    "        S = (1/N) * np.dot(A, A.T)\n",
    "    else :\n",
    "        S = (1/N) * np.dot(A.T, A)\n",
    "        \n",
    "    print(f'S: {S.shape}')\n",
    "    print(f'Mean: {mean.shape}')\n",
    "    return A, mean, S"
   ]
  },
  {
   "cell_type": "code",
   "execution_count": 71,
   "metadata": {},
   "outputs": [
    {
     "name": "stdout",
     "output_type": "stream",
     "text": [
      "(416, 2576) (104, 2576) (2576, 520)\n",
      "batch: (416, 2576)\n",
      "A: (416, 2576)\n",
      "S: (2576, 2576)\n",
      "Mean: (2576,)\n",
      "batch: (416, 2576)\n",
      "A: (416, 2576)\n",
      "S: (416, 416)\n",
      "Mean: (2576,)\n",
      "1.5608601978374301 19.56715550923788\n"
     ]
    }
   ],
   "source": [
    "# They cannot possibly be the same since they have different dimensions. \n",
    "X_train, X_test = Q1_partition(data)\n",
    "print(X_train.shape, X_test.shape, data[\"X\"].shape)\n",
    "##### Look here FELIX - AAT: S = (1/N) A * A^T, ATA: S = (1/N) A^T * A  \n",
    "eigenvalues_AAT, eigenvectors_AAT, mean = PCA(X_train, 120)\n",
    "eigenvalues_ATA, eigenvectors_ATA, mean = PCA(X_train, 120, 1)\n",
    "##########\n",
    "print(np.sum(eigenvectors_AAT), np.sum(eigenvectors_ATA))"
   ]
  },
  {
   "cell_type": "code",
   "execution_count": 51,
   "metadata": {},
   "outputs": [
    {
     "name": "stdout",
     "output_type": "stream",
     "text": [
      "446.71392324743925\n",
      "516.577208252739\n"
     ]
    }
   ],
   "source": [
    "def deconstruct(image, eigenvects, mean):\n",
    "    #Project and image on the eigenvectors\n",
    "    \n",
    "    reduced = image - mean\n",
    "    projected = np.zeros((eigenvects.shape[1]))\n",
    "    for i, vector in enumerate(eigenvects.T) :\n",
    "        projected[i] = np.dot(reduced, vector)\n",
    "    return projected\n",
    "\n",
    "def reconstruct(projected, eigenvects, mean) :  \n",
    "    #Reconstruct an image from its projection\n",
    "          \n",
    "    return mean + np.sum((eigenvects * projected), axis=1)\n",
    "\n",
    "def test_image(img, eigenvects, mean, display=0):\n",
    "    #Returns norm of reconstruction error, can display images\n",
    "    \n",
    "    projected = deconstruct(img, eigenvects, mean)\n",
    "    re_image = reconstruct(projected, eigenvects, mean)\n",
    "    \n",
    "    if display :\n",
    "        display_image(img, \"Image 4\")\n",
    "        display_image(re_image, \"Image 4 after reconstruct\")\n",
    "    return(np.linalg.norm(img-re_image))\n",
    "    \n",
    "   \n",
    "print(test_image(X[:, 3], eigenvectors_AAT, mean, 0))\n",
    "print(np.mean([test_image(X[:, i], eigenvectors_AAT, mean, 0) for i in range(len(X[0]))]))  #mean error\n"
   ]
  },
  {
   "cell_type": "code",
   "execution_count": 59,
   "metadata": {},
   "outputs": [
    {
     "data": {
      "image/png": "[encoded data removed]",
      "text/plain": [
       "<Figure size 480x480 with 2 Axes>"
      ]
     },
     "metadata": {},
     "output_type": "display_data"
    },
    {
     "name": "stdout",
     "output_type": "stream",
     "text": [
      "Accuracy :  0.41346153846153844\n"
     ]
    }
   ],
   "source": [
    "def testing_NN(image, projections, eigenvects, mean) :\n",
    "    #Finds which training image correspond best to this image\n",
    "    \n",
    "    projected = deconstruct(image, eigenvects, mean)\n",
    "    return np.argmin(np.linalg.norm((projections - projected), axis=1))\n",
    "\n",
    "def fulltest(X_test, X_train, eigenvects, mean):\n",
    "    #Compute all testing images and return guessed label\n",
    "    \n",
    "    projections = np.array([deconstruct(X_train[i], eigenvects, mean) for i in range(len(X_train))])\n",
    "    res = []\n",
    "    for image in X_test:\n",
    "        res.append((testing_NN(image, projections, eigenvects, mean) //8) + 1)\n",
    "    return np.array(res)\n",
    "\n",
    "res = fulltest(X_test, X_train, eigenvectors_ATA, mean)\n",
    "labels = np.array([j+1 for j in range(52) for i in range(2)])\n",
    "\n",
    "cm = confusion_matrix(labels, res)\n",
    "\n",
    "plt.matshow(cm, cmap = 'Blues')\n",
    "plt.colorbar()\n",
    "plt.ylabel('Actual')\n",
    "plt.xlabel('Predicted')\n",
    "plt.show()\n",
    "\n",
    "print(\"Accuracy : \", sum(np.equal(res, labels))/len(res))"
   ]
  }
 ],
 "metadata": {
  "kernelspec": {
   "display_name": "Python 3",
   "language": "python",
   "name": "python3"
  },
  "language_info": {
   "codemirror_mode": {
    "name": "ipython",
    "version": 3
   },
   "file_extension": ".py",
   "mimetype": "text/x-python",
   "name": "python",
   "nbconvert_exporter": "python",
   "pygments_lexer": "ipython3",
   "version": "3.12.7"
  }
 },
 "nbformat": 4,
 "nbformat_minor": 2
}

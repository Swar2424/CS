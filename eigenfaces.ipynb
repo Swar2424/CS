{
 "cells": [
  {
   "cell_type": "markdown",
   "metadata": {},
   "source": [
    "### Partition face dataset into 8:2 training:test\n",
    "\n",
    "### Apply PCA on training data by use of eigenvectors and eigenvalues of covaraiance matrix S= (1/N)A(A^T)\n",
    "\n",
    "### Apply PCA using eigenvectors and eigenvalues of (1/N)(A^T)A"
   ]
  },
  {
   "cell_type": "code",
   "execution_count": 154,
   "metadata": {},
   "outputs": [],
   "source": [
    "# PCA source: Week 2 slides - Manifold Learning\n",
    "\n",
    "import numpy as np\n",
    "from scipy.io import loadmat\n",
    "from sklearn.model_selection import train_test_split\n",
    "import matplotlib.pyplot as plt\n",
    "\n",
    "np.random.seed(42)\n",
    "\n",
    "data = loadmat('face.mat')\n",
    "\n",
    "X = data['X'] # flat images dim (2576,520)\n",
    "l = data['l'].flatten()  # image Labels (1,520)"
   ]
  },
  {
   "cell_type": "code",
   "execution_count": 155,
   "metadata": {},
   "outputs": [
    {
     "name": "stdout",
     "output_type": "stream",
     "text": [
      "(416, 2576) (104, 2576) (416,) (104,)\n"
     ]
    }
   ],
   "source": [
    "# Does a 8/2 split of dataset (8 images / 2 images of each person). Training data shuffled. \n",
    "def partition_dataset_8_2(data):\n",
    "    X = data['X'] # flat images dim (2576,520)\n",
    "    l = data['l'].flatten()  # image Labels (1,520)\n",
    "    X_train, Y_train, X_labels, Y_labels  = [], [], [], []\n",
    "    for i in range(0, 520, 10):\n",
    "        im_train, im_test, l_train, l_test = train_test_split( X[:, i: i + 10].T, l[i: i + 10], test_size=0.2, random_state=42)\n",
    "        X_train.append(im_train)    \n",
    "        Y_train.append(im_test)  \n",
    "        X_labels.append(l_train)  \n",
    "        Y_labels.append(l_test)  \n",
    "    X_train = np.array(X_train).reshape(-1, 2576)\n",
    "    Y_train = np.array(Y_train).reshape(-1, 2576)\n",
    "    X_labels = np.array(X_labels).reshape(-1)\n",
    "    Y_labels = np.array(Y_labels).reshape(-1)\n",
    "    return  X_train, Y_train, X_labels, Y_labels\n",
    "\n",
    "X_train, Y_train, X_labels, Y_labels = partition_dataset_8_2(data)\n",
    "print( X_train.shape, Y_train.shape, X_labels.shape, Y_labels.shape)"
   ]
  },
  {
   "cell_type": "code",
   "execution_count": 156,
   "metadata": {},
   "outputs": [],
   "source": [
    "def display_image(image, label):\n",
    "    # X[:, image_index]\n",
    "    image_height, image_width = 46, 56 \n",
    "    image = image.reshape((image_height, image_width)).T \n",
    "    # label = l[image_index]\n",
    "\n",
    "    plt.imshow(image, cmap='gray', aspect='auto')\n",
    "    plt.title(f\"Face Image - Label: {label}\")\n",
    "    plt.axis('off')\n",
    "    plt.show()\n",
    "    # display_image(X_train[1:2].T, \"hey\")\n",
    "\n",
    "def get_sorted_eigen(M):\n",
    "    eigenvalues, eigenvectors = np.linalg.eig(M)\n",
    "\n",
    "    sorted_indices = np.argsort(eigenvalues)[::-1]\n",
    "\n",
    "    sorted_eigenvalues = eigenvalues[sorted_indices]\n",
    "    sorted_eigenvectors = eigenvectors[:, sorted_indices]\n",
    "    return sorted_eigenvalues, sorted_eigenvectors\n",
    "\n",
    "# S = Covariance Matrix, A = mean centred data, N = #samples\n",
    "def PCA(A,N):\n",
    "    S = (1/N) * np.dot(A, A.T)\n",
    "    return get_sorted_eigen(S)"
   ]
  },
  {
   "cell_type": "code",
   "execution_count": 157,
   "metadata": {},
   "outputs": [
    {
     "data": {
      "image/png": "[encoded data removed]",
      "text/plain": [
       "<Figure size 640x480 with 1 Axes>"
      ]
     },
     "metadata": {},
     "output_type": "display_data"
    },
    {
     "name": "stdout",
     "output_type": "stream",
     "text": [
      "None\n"
     ]
    }
   ],
   "source": [
    "X_train_mean = np.mean(X_train, axis=0)\n",
    "A = X_train - X_train_mean\n",
    "N = A.shape[1]\n",
    "print(display_image(X_train_mean, \"Mean face\"))"
   ]
  },
  {
   "cell_type": "code",
   "execution_count": 158,
   "metadata": {},
   "outputs": [],
   "source": [
    "# They cannot possibly be the same since they have different dimensions. \n",
    "\n",
    "##### Look here FELIX - AAT: S = (1/N) A * A^T, ATA: S = (1/N) A^T * A  \n",
    "eigenvalues_AAT, eigenvectors_AAT = PCA(A,N)\n",
    "eigenvalues_ATA, eigenvectors_ATA = PCA(A.T,N)\n",
    "##########"
   ]
  }
 ],
 "metadata": {
  "kernelspec": {
   "display_name": "general",
   "language": "python",
   "name": "python3"
  },
  "language_info": {
   "codemirror_mode": {
    "name": "ipython",
    "version": 3
   },
   "file_extension": ".py",
   "mimetype": "text/x-python",
   "name": "python",
   "nbconvert_exporter": "python",
   "pygments_lexer": "ipython3",
   "version": "3.12.7"
  }
 },
 "nbformat": 4,
 "nbformat_minor": 2
}

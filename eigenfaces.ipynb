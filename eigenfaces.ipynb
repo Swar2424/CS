{
 "cells": [
  {
   "cell_type": "markdown",
   "metadata": {},
   "source": [
    "### Partition face dataset into 8:2 training:test\n",
    "\n",
    "### Apply PCA on training data by use of eigenvectors and eigenvalues of covaraiance matrix S= (1/N)A(A^T)\n",
    "\n",
    "### Apply PCA using eigenvectors and eigenvalues of (1/N)(A^T)A"
   ]
  },
  {
   "cell_type": "code",
   "execution_count": 240,
   "metadata": {},
   "outputs": [],
   "source": [
    "# PCA source: Week 2 slides - Manifold Learning\n",
    "\n",
    "import numpy as np\n",
    "from scipy.io import loadmat\n",
    "from sklearn.model_selection import train_test_split\n",
    "import matplotlib.pyplot as plt\n",
    "\n",
    "np.random.seed(42)\n",
    "\n",
    "data = loadmat('face.mat')\n",
    "\n",
    "X = data['X'] # flat images dim (2576,520)\n",
    "# l = data['l'].flatten()  # image Labels (1,520)\n",
    "\n",
    "# Does a 8/2 split of dataset (8 images / 2 images of each person). Training data shuffled. \n",
    "def Q1_partition(data):\n",
    "    X = data['X'] # flat images dim (2576,520)\n",
    "    X_train, X_test = [], []\n",
    "    for i in range(0, 520, 10):\n",
    "        im_train, im_test = train_test_split(X[:, i: i + 10].T, test_size=0.2, random_state=42)\n",
    "        X_train.append(im_train)    \n",
    "        X_test.append(im_test)  \n",
    "  \n",
    "    return  np.array(X_train).reshape(-1, 2576), np.array(X_test).reshape(-1, 2576)"
   ]
  },
  {
   "cell_type": "code",
   "execution_count": 241,
   "metadata": {},
   "outputs": [],
   "source": [
    "# Splits data into five equal sets of 2 images per person x 52 people = 104 \n",
    "def Q2_partition(data, num_partitions):\n",
    "    X = data['X'] # flat images dim (2576,520)\n",
    "    t = [[] for _ in range(num_partitions)]\n",
    "    for i in range(0, 520, 10):\n",
    "        slice = X[:, i: i + 10].T\n",
    "        for j in range(num_partitions):\n",
    "            t[j].append(slice[j*2:(j+1)*2])\n",
    "       \n",
    "    for i in range(num_partitions-1):\n",
    "        t[i] = np.array(t[i]).reshape(-1, 2576) # Also shuffle \n",
    "        np.random.shuffle(t[i])\n",
    "    t[-1] = np.array(t[4]).reshape(-1, 2576)\n",
    "\n",
    "    return t\n"
   ]
  },
  {
   "cell_type": "code",
   "execution_count": 282,
   "metadata": {},
   "outputs": [],
   "source": [
    "def display_image(image, label):\n",
    "    # X[:, image_index]\n",
    "    image_height, image_width = 46, 56 \n",
    "    image = image.reshape((image_height, image_width)).T \n",
    "    # label = l[image_index]\n",
    "\n",
    "    plt.imshow(image, cmap='gray', aspect='auto')\n",
    "    plt.title(f\"Face Image - Label: {label}\")\n",
    "    plt.axis('off')\n",
    "    plt.show()\n",
    "    # display_image(X_train[1:2].T, \"hey\")\n",
    "    # display_image(t1[i:i+1].T, \"Hey\")\n",
    "\n",
    "def get_sorted_eigen(M):\n",
    "    eigenvalues, eigenvectors = np.linalg.eig(M)\n",
    "    eigenvalues, eigenvectors = np.real(eigenvalues), np.real(eigenvectors)\n",
    "\n",
    "    sorted_indices = np.argsort(eigenvalues)[::-1]\n",
    "\n",
    "    sorted_eigenvalues = eigenvalues[sorted_indices]\n",
    "    sorted_eigenvectors = eigenvectors[:, sorted_indices]\n",
    "    return sorted_eigenvalues, sorted_eigenvectors\n",
    "\n",
    "# S = Covariance Matrix, A = mean centred data, N = #samples\n",
    "def PCA(batch, threshold = 0.95):\n",
    "    _, _, S = process_batch(batch)\n",
    "    eigenvalues, eigenvectors = get_sorted_eigen(S)\n",
    "    k = choose_principal_components(threshold, eigenvalues)\n",
    "    return eigenvalues[:k + 1], eigenvectors[:, :k + 1]\n",
    "\n",
    "def choose_principal_components(threshold, eigenvalues):\n",
    "    covariance_ratios = eigenvalues/np.sum(eigenvalues)\n",
    "    cum_var = 0\n",
    "    for k, ratio in enumerate(covariance_ratios):\n",
    "        cum_var += ratio\n",
    "        if cum_var >= threshold: return k \n",
    "\n",
    "def process_batch(batch):\n",
    "    mean = np.mean(batch, axis=0)\n",
    "    A = batch - mean\n",
    "    print(f'batch: {batch.shape}')\n",
    "    print(f'A: {A.shape}')\n",
    "    N = A.shape[1]\n",
    "    S = (1/N) * np.dot(A.T, A)\n",
    "    print(f'S: {S.shape}')\n",
    "    print(f'Mean: {mean.shape}')\n",
    "    return N, mean, S"
   ]
  },
  {
   "cell_type": "code",
   "execution_count": 283,
   "metadata": {},
   "outputs": [
    {
     "name": "stdout",
     "output_type": "stream",
     "text": [
      "batch: (416, 2576)\n",
      "A: (416, 2576)\n",
      "S: (2576, 2576)\n",
      "Mean: (2576,)\n",
      "batch: (2576, 416)\n",
      "A: (2576, 416)\n",
      "S: (416, 416)\n",
      "Mean: (416,)\n"
     ]
    }
   ],
   "source": [
    "# They cannot possibly be the same since they have different dimensions. \n",
    "X_train, X_test = Q1_partition(data)\n",
    "##### Look here FELIX - AAT: S = (1/N) A * A^T, ATA: S = (1/N) A^T * A  \n",
    "eigenvalues_AAT, eigenvectors_AAT = PCA(X_train)\n",
    "eigenvalues_ATA, eigenvectors_ATA = PCA(X_train.T)\n",
    "##########"
   ]
  },
  {
   "cell_type": "code",
   "execution_count": 284,
   "metadata": {},
   "outputs": [
    {
     "name": "stdout",
     "output_type": "stream",
     "text": [
      "batch: (416, 2576)\n",
      "A: (416, 2576)\n",
      "S: (2576, 2576)\n",
      "Mean: (2576,)\n"
     ]
    }
   ],
   "source": [
    "t = Q2_partition(data,5)\n",
    "\n",
    "\n",
    "batch = t[0]\n",
    "N, mean, S = process_batch(X_train)\n"
   ]
  },
  {
   "cell_type": "code",
   "execution_count": 285,
   "metadata": {},
   "outputs": [],
   "source": [
    "def incremental_PCA(data, num_partitions = 5):\n",
    "    t = Q2_partition(data, num_partitions)\n",
    "    \n",
    "    N1, mu1, S1 = process_batch(t[0])\n",
    "\n",
    "    for batch in t[1:-1]:  # every batch except first (already initialized) and last (test)\n",
    "        N2, mu2, S2 = process_batch(batch)\n",
    "        print(batch.shape)\n",
    "\n",
    "        N3 = N1 + N2\n",
    "        mu3 = (N1*mu1 + N2*mu2)/N3\n",
    "        mu12 = mu1-mu2\n",
    "        term1 = (N1/N3) * S1\n",
    "        term2 = (N2/N3)*S2\n",
    "        term3 = (N1*N2)/(N3**2) * np.outer(mu12, mu12.T)  \n",
    "        S3 =  term1 + term2 + term3 \n",
    "\n",
    "        N1, mu1, S1 = N3, mu3, S3"
   ]
  },
  {
   "cell_type": "code",
   "execution_count": 286,
   "metadata": {},
   "outputs": [
    {
     "name": "stdout",
     "output_type": "stream",
     "text": [
      "batch: (104, 2576)\n",
      "A: (104, 2576)\n",
      "S: (2576, 2576)\n",
      "Mean: (2576,)\n",
      "batch: (104, 2576)\n",
      "A: (104, 2576)\n",
      "S: (2576, 2576)\n",
      "Mean: (2576,)\n",
      "(104, 2576)\n",
      "batch: (104, 2576)\n",
      "A: (104, 2576)\n",
      "S: (2576, 2576)\n",
      "Mean: (2576,)\n",
      "(104, 2576)\n",
      "batch: (104, 2576)\n",
      "A: (104, 2576)\n",
      "S: (2576, 2576)\n",
      "Mean: (2576,)\n",
      "(104, 2576)\n"
     ]
    }
   ],
   "source": [
    "incremental_PCA(data)"
   ]
  }
 ],
 "metadata": {
  "kernelspec": {
   "display_name": "general",
   "language": "python",
   "name": "python3"
  },
  "language_info": {
   "codemirror_mode": {
    "name": "ipython",
    "version": 3
   },
   "file_extension": ".py",
   "mimetype": "text/x-python",
   "name": "python",
   "nbconvert_exporter": "python",
   "pygments_lexer": "ipython3",
   "version": "3.12.7"
  }
 },
 "nbformat": 4,
 "nbformat_minor": 2
}

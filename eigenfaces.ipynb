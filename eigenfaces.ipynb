{
 "cells": [
  {
   "cell_type": "markdown",
   "metadata": {},
   "source": [
    "### Partition face dataset into 8:2 training:test\n",
    "\n",
    "### Apply PCA on training data by use of eigenvectors and eigenvalues of covaraiance matrix S= (1/N)A(A^T)\n",
    "\n",
    "### Apply PCA using eigenvectors and eigenvalues of (1/N)(A^T)A"
   ]
  },
  {
   "cell_type": "code",
   "execution_count": 165,
   "metadata": {},
   "outputs": [
    {
     "name": "stdout",
     "output_type": "stream",
     "text": [
      "Training set shape: (416, 2576)\n",
      "Test set shape: (104, 2576)\n"
     ]
    }
   ],
   "source": [
    "# PCA source: Week 2 slides - Manifold Learning\n",
    "\n",
    "import numpy as np\n",
    "from scipy.io import loadmat\n",
    "from sklearn.model_selection import train_test_split\n",
    "import matplotlib.pyplot as plt\n",
    "\n",
    "data = loadmat('face.mat')\n",
    "\n",
    "X = data['X'] # flat images dim (2576,520)\n",
    "l = data['l'].flatten()  # image Labels (1,520)\n",
    "\n",
    "X_train, X_test, y_train, y_test = train_test_split(X.T, l, test_size=0.2, random_state=42)\n",
    "# X_train, X_test = train_test_split(X, test_size=0.2, random_state=42)\n",
    "\n",
    "print(f\"Training set shape: {X_train.shape}\")\n",
    "print(f\"Test set shape: {X_test.shape}\")"
   ]
  },
  {
   "cell_type": "code",
   "execution_count": 166,
   "metadata": {},
   "outputs": [],
   "source": [
    "def display_image(image, label):\n",
    "    # X[:, image_index]\n",
    "    image_height, image_width = 46, 56 \n",
    "    image = image.reshape((image_height, image_width)).T \n",
    "    # label = l[image_index]\n",
    "\n",
    "    plt.imshow(image, cmap='gray', aspect='auto')\n",
    "    plt.title(f\"Face Image - Label: {label}\")\n",
    "    plt.axis('off')\n",
    "    plt.show()"
   ]
  },
  {
   "cell_type": "code",
   "execution_count": 167,
   "metadata": {},
   "outputs": [
    {
     "name": "stdout",
     "output_type": "stream",
     "text": [
      "(416, 2576)\n",
      "(2576,)\n"
     ]
    }
   ],
   "source": [
    "print(X_train.shape)\n",
    "X_train_mean = np.mean(X_train, axis=0)\n",
    "print(X_train_mean.shape)\n"
   ]
  },
  {
   "cell_type": "code",
   "execution_count": 168,
   "metadata": {},
   "outputs": [
    {
     "data": {
      "image/png": "[encoded data removed]",
      "text/plain": [
       "<Figure size 640x480 with 1 Axes>"
      ]
     },
     "metadata": {},
     "output_type": "display_data"
    },
    {
     "name": "stdout",
     "output_type": "stream",
     "text": [
      "None\n"
     ]
    }
   ],
   "source": [
    "X_train_mean = np.mean(X_train, axis=0)\n",
    "A = X_train - X_train_mean\n",
    "N = A.shape[1]\n",
    "print(display_image(X_train_mean, \"Mean face\"))"
   ]
  },
  {
   "cell_type": "code",
   "execution_count": 169,
   "metadata": {},
   "outputs": [],
   "source": [
    "def get_sorted_eigen(M):\n",
    "    eigenvalues, eigenvectors = np.linalg.eig(M)\n",
    "\n",
    "    sorted_indices = np.argsort(eigenvalues)[::-1]\n",
    "\n",
    "    sorted_eigenvalues = eigenvalues[sorted_indices]\n",
    "    sorted_eigenvectors = eigenvectors[:, sorted_indices]\n",
    "    return sorted_eigenvalues, sorted_eigenvectors"
   ]
  },
  {
   "cell_type": "code",
   "execution_count": 170,
   "metadata": {},
   "outputs": [],
   "source": [
    "# S = Covariance Matrix, A = mean centred data, N = #samples\n",
    "def PCA(A,N):\n",
    "    S = (1/N) * np.dot(A, A.T)\n",
    "    return get_sorted_eigen(S)"
   ]
  },
  {
   "cell_type": "code",
   "execution_count": 171,
   "metadata": {},
   "outputs": [],
   "source": [
    "# They cannot possibly be the same since they have different dimensions. \n",
    "\n",
    "\n",
    "\n",
    "##### Look here FELIX - AAT: S = (1/N) A * A^T, ATA: S = (1/N) A^T * A  \n",
    "eigenvalues_AAT, eigenvectors_AAT = PCA(A,N)\n",
    "eigenvalues_ATA, eigenvectors_ATA = PCA(A.T,N)\n",
    "##########"
   ]
  }
 ],
 "metadata": {
  "kernelspec": {
   "display_name": "general",
   "language": "python",
   "name": "python3"
  },
  "language_info": {
   "codemirror_mode": {
    "name": "ipython",
    "version": 3
   },
   "file_extension": ".py",
   "mimetype": "text/x-python",
   "name": "python",
   "nbconvert_exporter": "python",
   "pygments_lexer": "ipython3",
   "version": "3.12.7"
  }
 },
 "nbformat": 4,
 "nbformat_minor": 2
}

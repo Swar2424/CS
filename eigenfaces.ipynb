{
 "cells": [
  {
   "cell_type": "markdown",
   "metadata": {},
   "source": [
    "### Partition face dataset into 8:2 training:test\n",
    "\n",
    "### Apply PCA on training data by use of eigenvectors and eigenvalues of covaraiance matrix S= (1/N)A(A^T)\n",
    "\n",
    "### Apply PCA using eigenvectors and eigenvalues of (1/N)(A^T)A"
   ]
  },
  {
   "cell_type": "code",
   "execution_count": 196,
   "metadata": {},
   "outputs": [
    {
     "name": "stdout",
     "output_type": "stream",
     "text": [
      "(416, 2576) (104, 2576)\n"
     ]
    }
   ],
   "source": [
    "# PCA source: Week 2 slides - Manifold Learning\n",
    "\n",
    "import numpy as np\n",
    "from scipy.io import loadmat\n",
    "from sklearn.model_selection import train_test_split\n",
    "import matplotlib.pyplot as plt\n",
    "\n",
    "np.random.seed(42)\n",
    "\n",
    "data = loadmat('face.mat')\n",
    "\n",
    "X = data['X'] # flat images dim (2576,520)\n",
    "# l = data['l'].flatten()  # image Labels (1,520)\n",
    "\n",
    "# Does a 8/2 split of dataset (8 images / 2 images of each person). Training data shuffled. \n",
    "def Q1_partition(data):\n",
    "    X = data['X'] # flat images dim (2576,520)\n",
    "    X_train, X_test = [], []\n",
    "    for i in range(0, 520, 10):\n",
    "        im_train, im_test = train_test_split(X[:, i: i + 10].T, test_size=0.2, random_state=42)\n",
    "        X_train.append(im_train)    \n",
    "        X_test.append(im_test)  \n",
    "  \n",
    "    return  np.array(X_train).reshape(-1, 2576), np.array(X_test).reshape(-1, 2576)\n",
    "\n",
    "X_train, X_test = Q1_partition(data)\n",
    "print( X_train.shape, X_test.shape)"
   ]
  },
  {
   "cell_type": "code",
   "execution_count": 213,
   "metadata": {},
   "outputs": [
    {
     "name": "stdout",
     "output_type": "stream",
     "text": [
      "(104, 2576)\n"
     ]
    }
   ],
   "source": [
    "# Splits data into five equal sets of 2 images per person x 52 people = 104 \n",
    "def Q2_partition(data, num_partitions):\n",
    "    X = data['X'] # flat images dim (2576,520)\n",
    "    t = [[] for _ in range(num_partitions)]\n",
    "    for i in range(0, 520, 10):\n",
    "        slice = X[:, i: i + 10].T\n",
    "        for j in range(num_partitions):\n",
    "            t[j].append(slice[j*2:(j+1)*2])\n",
    "       \n",
    "    for i in range(num_partitions-1):\n",
    "        t[i] = np.array(t[i]).reshape(-1, 2576) # Also shuffle \n",
    "        np.random.shuffle(t[i])\n",
    "    t[-1] = np.array(t[4]).reshape(-1, 2576)\n",
    "\n",
    "    return t\n",
    "t = Q2_partition(data,5)\n",
    "print(t[1].shape)\n"
   ]
  },
  {
   "cell_type": "code",
   "execution_count": 156,
   "metadata": {},
   "outputs": [],
   "source": [
    "def display_image(image, label):\n",
    "    # X[:, image_index]\n",
    "    image_height, image_width = 46, 56 \n",
    "    image = image.reshape((image_height, image_width)).T \n",
    "    # label = l[image_index]\n",
    "\n",
    "    plt.imshow(image, cmap='gray', aspect='auto')\n",
    "    plt.title(f\"Face Image - Label: {label}\")\n",
    "    plt.axis('off')\n",
    "    plt.show()\n",
    "    # display_image(X_train[1:2].T, \"hey\")\n",
    "    # display_image(t1[i:i+1].T, \"Hey\")\n",
    "\n",
    "def get_sorted_eigen(M):\n",
    "    eigenvalues, eigenvectors = np.linalg.eig(M)\n",
    "\n",
    "    sorted_indices = np.argsort(eigenvalues)[::-1]\n",
    "\n",
    "    sorted_eigenvalues = eigenvalues[sorted_indices]\n",
    "    sorted_eigenvectors = eigenvectors[:, sorted_indices]\n",
    "    return sorted_eigenvalues, sorted_eigenvectors\n",
    "\n",
    "# S = Covariance Matrix, A = mean centred data, N = #samples\n",
    "def PCA(A, N, threshold = 0.95):\n",
    "    S = (1/N) * np.dot(A, A.T)\n",
    "    eigenvalues, eigenvectors = get_sorted_eigen(S)\n",
    "    k = choose_principal_components\n",
    "    return eigenvalues[:k + 1], eigenvectors[:, :k + 1]\n",
    "\n",
    "def choose_principal_components(threshold, eigenvalues):\n",
    "    covariance_ratios = eigenvalues/np.sum(eigenvalues)\n",
    "    cum_var = 0\n",
    "    for k, ratio in enumerate(covariance_ratios):\n",
    "        cumulative_variance += ratio\n",
    "        if cum_var >= threshold: return k \n",
    "\n",
    "\n",
    "\n"
   ]
  },
  {
   "cell_type": "code",
   "execution_count": 206,
   "metadata": {},
   "outputs": [
    {
     "data": {
      "image/png": "[encoded data removed]",
      "text/plain": [
       "<Figure size 640x480 with 1 Axes>"
      ]
     },
     "metadata": {},
     "output_type": "display_data"
    },
    {
     "name": "stdout",
     "output_type": "stream",
     "text": [
      "None\n"
     ]
    }
   ],
   "source": [
    "X_train_mean = np.mean(X_train, axis=0)\n",
    "A = X_train - X_train_mean\n",
    "N = A.shape[1]\n",
    "print(display_image(t1[9:10], \"Mean face\"))"
   ]
  },
  {
   "cell_type": "code",
   "execution_count": 158,
   "metadata": {},
   "outputs": [],
   "source": [
    "# They cannot possibly be the same since they have different dimensions. \n",
    "\n",
    "##### Look here FELIX - AAT: S = (1/N) A * A^T, ATA: S = (1/N) A^T * A  \n",
    "eigenvalues_AAT, eigenvectors_AAT = PCA(A,N)\n",
    "eigenvalues_ATA, eigenvectors_ATA = PCA(A.T,N)\n",
    "##########"
   ]
  },
  {
   "cell_type": "code",
   "execution_count": 218,
   "metadata": {},
   "outputs": [
    {
     "data": {
      "text/plain": [
       "104"
      ]
     },
     "execution_count": 218,
     "metadata": {},
     "output_type": "execute_result"
    }
   ],
   "source": [
    "t[1].shape[0]\n"
   ]
  },
  {
   "cell_type": "code",
   "execution_count": null,
   "metadata": {},
   "outputs": [],
   "source": [
    "def incremental_PCA(X, num_partitions = 5):\n",
    "    total_samples, total_mean = 0, 0 \n",
    "    batch_mean = np.mean\n",
    "    t = Q2_partition(X)\n",
    "\n",
    "    for i in range(len(t)-1):\n",
    "        batch = t[i]\n",
    "        N2 = batch.shape[0]\n",
    "        mu2 = np.mean(batch, axis=0)\n",
    "        A = batch - mean\n",
    "\n",
    "        total_samples += batch_samples\n",
    "        total_mean = (batch_samples * batch_mean - total_samples * total_mean ) / (batch_samples - total_samples)\n",
    "        mu_diff = mu2-mu3\n",
    "        S3 = (N1/N3) * S1 - (N2/N3)*S2 - (N2/N1) * mu_diff * mu_diff.T         \n",
    "\n",
    "\n",
    "\n",
    "\n",
    "\n"
   ]
  }
 ],
 "metadata": {
  "kernelspec": {
   "display_name": "general",
   "language": "python",
   "name": "python3"
  },
  "language_info": {
   "codemirror_mode": {
    "name": "ipython",
    "version": 3
   },
   "file_extension": ".py",
   "mimetype": "text/x-python",
   "name": "python",
   "nbconvert_exporter": "python",
   "pygments_lexer": "ipython3",
   "version": "3.12.7"
  }
 },
 "nbformat": 4,
 "nbformat_minor": 2
}
